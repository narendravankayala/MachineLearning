{
 "cells": [
  {
   "cell_type": "markdown",
   "metadata": {},
   "source": [
    "# Assignment #1 - Linear Regression\n",
    "\n",
    "<font color=\"red\"> <b> Due: Feb 12 (Tuesday) 11:00 pm </b> </font>"
   ]
  },
  {
   "cell_type": "markdown",
   "metadata": {},
   "source": [
    "<font color=\"blue\"> Narendra Kumar Vankayala </font>"
   ]
  },
  {
   "cell_type": "markdown",
   "metadata": {},
   "source": [
    "# Introduction\n",
    "\n",
    "* This notebook provides the implementation of Linear Regression from scratch\n",
    "* Linear Regression is performed on the BlackFriday dataset which is taken from Kaggel.com\n",
    "* I have also introduced Linear Regression using Least Sqaures and Least Mean Squares in this notebook and how we can use them to find the cost function and the weights of the Linear Regression Model\n"
   ]
  },
  {
   "cell_type": "code",
   "execution_count": 116,
   "metadata": {},
   "outputs": [],
   "source": [
    "from IPython.display import display, Math, Latex"
   ]
  },
  {
   "cell_type": "markdown",
   "metadata": {},
   "source": [
    "# Data\n",
    "\n"
   ]
  },
  {
   "cell_type": "markdown",
   "metadata": {},
   "source": [
    "## Introduction to Data\n",
    "* The dataset is a sample of the transactions made in a retail store on the event of Black Friday which occurs every year in the US. \n",
    "* The store wants to know better the customer purchase behaviour against different products.\n",
    "* The dataset has 537,577 observations and 12 features\n",
    "* The dataset contains different kinds of variables either categorial or numerical\n",
    "* The value which we infer is a dependent variable(the amount of purchase) with the help of the information contained in the other variables/features.\n"
   ]
  },
  {
   "cell_type": "code",
   "execution_count": 117,
   "metadata": {},
   "outputs": [],
   "source": [
    "import numpy as np\n",
    "import pdb\n",
    "import pandas as pd\n",
    "import matplotlib.pyplot as plt\n",
    "import matplotlib.collections as mcol\n",
    "from matplotlib.legend_handler import HandlerLineCollection, HandlerTuple\n",
    "from matplotlib.lines import Line2D\n",
    "\n",
    "%matplotlib inline"
   ]
  },
  {
   "cell_type": "markdown",
   "metadata": {},
   "source": [
    "## Preprocessing the Data"
   ]
  },
  {
   "cell_type": "code",
   "execution_count": 118,
   "metadata": {},
   "outputs": [],
   "source": [
    "#The data is stored in a csv file named \"BlackFriday.csv\"\n",
    "df_regression = pd.read_csv(\"BlackFriday.csv\")"
   ]
  },
  {
   "cell_type": "code",
   "execution_count": 119,
   "metadata": {},
   "outputs": [
    {
     "data": {
      "text/plain": [
       "True"
      ]
     },
     "execution_count": 119,
     "metadata": {},
     "output_type": "execute_result"
    }
   ],
   "source": [
    "#checking if there are any nan values in the dataset for which we found \"True\"\n",
    "np.any(df_regression.isna())"
   ]
  },
  {
   "cell_type": "code",
   "execution_count": 120,
   "metadata": {},
   "outputs": [
    {
     "data": {
      "text/plain": [
       "True"
      ]
     },
     "execution_count": 120,
     "metadata": {},
     "output_type": "execute_result"
    }
   ],
   "source": [
    "#checking for null values in the dataset\n",
    "np.any(df_regression.isnull())"
   ]
  },
  {
   "cell_type": "code",
   "execution_count": 121,
   "metadata": {},
   "outputs": [
    {
     "name": "stdout",
     "output_type": "stream",
     "text": [
      "<class 'pandas.core.frame.DataFrame'>\n",
      "RangeIndex: 537577 entries, 0 to 537576\n",
      "Data columns (total 12 columns):\n",
      "User_ID                       537577 non-null int64\n",
      "Product_ID                    537577 non-null object\n",
      "Gender                        537577 non-null object\n",
      "Age                           537577 non-null object\n",
      "Occupation                    537577 non-null int64\n",
      "City_Category                 537577 non-null object\n",
      "Stay_In_Current_City_Years    537577 non-null object\n",
      "Marital_Status                537577 non-null int64\n",
      "Product_Category_1            537577 non-null int64\n",
      "Product_Category_2            370591 non-null float64\n",
      "Product_Category_3            164278 non-null float64\n",
      "Purchase                      537577 non-null int64\n",
      "dtypes: float64(2), int64(5), object(5)\n",
      "memory usage: 49.2+ MB\n"
     ]
    }
   ],
   "source": [
    "#sneak peak of the datatypes of all the features in the dataset\n",
    "df_regression.info()"
   ]
  },
  {
   "cell_type": "code",
   "execution_count": 122,
   "metadata": {},
   "outputs": [
    {
     "data": {
      "text/html": [
       "<div>\n",
       "<style scoped>\n",
       "    .dataframe tbody tr th:only-of-type {\n",
       "        vertical-align: middle;\n",
       "    }\n",
       "\n",
       "    .dataframe tbody tr th {\n",
       "        vertical-align: top;\n",
       "    }\n",
       "\n",
       "    .dataframe thead th {\n",
       "        text-align: right;\n",
       "    }\n",
       "</style>\n",
       "<table border=\"1\" class=\"dataframe\">\n",
       "  <thead>\n",
       "    <tr style=\"text-align: right;\">\n",
       "      <th></th>\n",
       "      <th>User_ID</th>\n",
       "      <th>Product_ID</th>\n",
       "      <th>Gender</th>\n",
       "      <th>Age</th>\n",
       "      <th>Occupation</th>\n",
       "      <th>City_Category</th>\n",
       "      <th>Stay_In_Current_City_Years</th>\n",
       "      <th>Marital_Status</th>\n",
       "      <th>Product_Category_1</th>\n",
       "      <th>Product_Category_2</th>\n",
       "      <th>Product_Category_3</th>\n",
       "      <th>Purchase</th>\n",
       "    </tr>\n",
       "  </thead>\n",
       "  <tbody>\n",
       "    <tr>\n",
       "      <th>0</th>\n",
       "      <td>1000001</td>\n",
       "      <td>P00069042</td>\n",
       "      <td>F</td>\n",
       "      <td>0-17</td>\n",
       "      <td>10</td>\n",
       "      <td>A</td>\n",
       "      <td>2</td>\n",
       "      <td>0</td>\n",
       "      <td>3</td>\n",
       "      <td>NaN</td>\n",
       "      <td>NaN</td>\n",
       "      <td>8370</td>\n",
       "    </tr>\n",
       "    <tr>\n",
       "      <th>1</th>\n",
       "      <td>1000001</td>\n",
       "      <td>P00248942</td>\n",
       "      <td>F</td>\n",
       "      <td>0-17</td>\n",
       "      <td>10</td>\n",
       "      <td>A</td>\n",
       "      <td>2</td>\n",
       "      <td>0</td>\n",
       "      <td>1</td>\n",
       "      <td>6.0</td>\n",
       "      <td>14.0</td>\n",
       "      <td>15200</td>\n",
       "    </tr>\n",
       "    <tr>\n",
       "      <th>2</th>\n",
       "      <td>1000001</td>\n",
       "      <td>P00087842</td>\n",
       "      <td>F</td>\n",
       "      <td>0-17</td>\n",
       "      <td>10</td>\n",
       "      <td>A</td>\n",
       "      <td>2</td>\n",
       "      <td>0</td>\n",
       "      <td>12</td>\n",
       "      <td>NaN</td>\n",
       "      <td>NaN</td>\n",
       "      <td>1422</td>\n",
       "    </tr>\n",
       "    <tr>\n",
       "      <th>3</th>\n",
       "      <td>1000001</td>\n",
       "      <td>P00085442</td>\n",
       "      <td>F</td>\n",
       "      <td>0-17</td>\n",
       "      <td>10</td>\n",
       "      <td>A</td>\n",
       "      <td>2</td>\n",
       "      <td>0</td>\n",
       "      <td>12</td>\n",
       "      <td>14.0</td>\n",
       "      <td>NaN</td>\n",
       "      <td>1057</td>\n",
       "    </tr>\n",
       "    <tr>\n",
       "      <th>4</th>\n",
       "      <td>1000002</td>\n",
       "      <td>P00285442</td>\n",
       "      <td>M</td>\n",
       "      <td>55+</td>\n",
       "      <td>16</td>\n",
       "      <td>C</td>\n",
       "      <td>4+</td>\n",
       "      <td>0</td>\n",
       "      <td>8</td>\n",
       "      <td>NaN</td>\n",
       "      <td>NaN</td>\n",
       "      <td>7969</td>\n",
       "    </tr>\n",
       "  </tbody>\n",
       "</table>\n",
       "</div>"
      ],
      "text/plain": [
       "   User_ID Product_ID Gender   Age  Occupation City_Category  \\\n",
       "0  1000001  P00069042      F  0-17          10             A   \n",
       "1  1000001  P00248942      F  0-17          10             A   \n",
       "2  1000001  P00087842      F  0-17          10             A   \n",
       "3  1000001  P00085442      F  0-17          10             A   \n",
       "4  1000002  P00285442      M   55+          16             C   \n",
       "\n",
       "  Stay_In_Current_City_Years  Marital_Status  Product_Category_1  \\\n",
       "0                          2               0                   3   \n",
       "1                          2               0                   1   \n",
       "2                          2               0                  12   \n",
       "3                          2               0                  12   \n",
       "4                         4+               0                   8   \n",
       "\n",
       "   Product_Category_2  Product_Category_3  Purchase  \n",
       "0                 NaN                 NaN      8370  \n",
       "1                 6.0                14.0     15200  \n",
       "2                 NaN                 NaN      1422  \n",
       "3                14.0                 NaN      1057  \n",
       "4                 NaN                 NaN      7969  "
      ]
     },
     "execution_count": 122,
     "metadata": {},
     "output_type": "execute_result"
    }
   ],
   "source": [
    "#looking at the first five samples of the dataset\n",
    "df_regression.head()"
   ]
  },
  {
   "cell_type": "code",
   "execution_count": 123,
   "metadata": {},
   "outputs": [
    {
     "data": {
      "text/html": [
       "<div>\n",
       "<style scoped>\n",
       "    .dataframe tbody tr th:only-of-type {\n",
       "        vertical-align: middle;\n",
       "    }\n",
       "\n",
       "    .dataframe tbody tr th {\n",
       "        vertical-align: top;\n",
       "    }\n",
       "\n",
       "    .dataframe thead th {\n",
       "        text-align: right;\n",
       "    }\n",
       "</style>\n",
       "<table border=\"1\" class=\"dataframe\">\n",
       "  <thead>\n",
       "    <tr style=\"text-align: right;\">\n",
       "      <th></th>\n",
       "      <th>User_ID</th>\n",
       "      <th>Occupation</th>\n",
       "      <th>Marital_Status</th>\n",
       "      <th>Product_Category_1</th>\n",
       "      <th>Product_Category_2</th>\n",
       "      <th>Product_Category_3</th>\n",
       "      <th>Purchase</th>\n",
       "    </tr>\n",
       "  </thead>\n",
       "  <tbody>\n",
       "    <tr>\n",
       "      <th>count</th>\n",
       "      <td>5.375770e+05</td>\n",
       "      <td>537577.00000</td>\n",
       "      <td>537577.000000</td>\n",
       "      <td>537577.000000</td>\n",
       "      <td>370591.000000</td>\n",
       "      <td>164278.000000</td>\n",
       "      <td>537577.000000</td>\n",
       "    </tr>\n",
       "    <tr>\n",
       "      <th>mean</th>\n",
       "      <td>1.002992e+06</td>\n",
       "      <td>8.08271</td>\n",
       "      <td>0.408797</td>\n",
       "      <td>5.295546</td>\n",
       "      <td>9.842144</td>\n",
       "      <td>12.669840</td>\n",
       "      <td>9333.859853</td>\n",
       "    </tr>\n",
       "    <tr>\n",
       "      <th>std</th>\n",
       "      <td>1.714393e+03</td>\n",
       "      <td>6.52412</td>\n",
       "      <td>0.491612</td>\n",
       "      <td>3.750701</td>\n",
       "      <td>5.087259</td>\n",
       "      <td>4.124341</td>\n",
       "      <td>4981.022133</td>\n",
       "    </tr>\n",
       "    <tr>\n",
       "      <th>min</th>\n",
       "      <td>1.000001e+06</td>\n",
       "      <td>0.00000</td>\n",
       "      <td>0.000000</td>\n",
       "      <td>1.000000</td>\n",
       "      <td>2.000000</td>\n",
       "      <td>3.000000</td>\n",
       "      <td>185.000000</td>\n",
       "    </tr>\n",
       "    <tr>\n",
       "      <th>25%</th>\n",
       "      <td>1.001495e+06</td>\n",
       "      <td>2.00000</td>\n",
       "      <td>0.000000</td>\n",
       "      <td>1.000000</td>\n",
       "      <td>5.000000</td>\n",
       "      <td>9.000000</td>\n",
       "      <td>5866.000000</td>\n",
       "    </tr>\n",
       "    <tr>\n",
       "      <th>50%</th>\n",
       "      <td>1.003031e+06</td>\n",
       "      <td>7.00000</td>\n",
       "      <td>0.000000</td>\n",
       "      <td>5.000000</td>\n",
       "      <td>9.000000</td>\n",
       "      <td>14.000000</td>\n",
       "      <td>8062.000000</td>\n",
       "    </tr>\n",
       "    <tr>\n",
       "      <th>75%</th>\n",
       "      <td>1.004417e+06</td>\n",
       "      <td>14.00000</td>\n",
       "      <td>1.000000</td>\n",
       "      <td>8.000000</td>\n",
       "      <td>15.000000</td>\n",
       "      <td>16.000000</td>\n",
       "      <td>12073.000000</td>\n",
       "    </tr>\n",
       "    <tr>\n",
       "      <th>max</th>\n",
       "      <td>1.006040e+06</td>\n",
       "      <td>20.00000</td>\n",
       "      <td>1.000000</td>\n",
       "      <td>18.000000</td>\n",
       "      <td>18.000000</td>\n",
       "      <td>18.000000</td>\n",
       "      <td>23961.000000</td>\n",
       "    </tr>\n",
       "  </tbody>\n",
       "</table>\n",
       "</div>"
      ],
      "text/plain": [
       "            User_ID    Occupation  Marital_Status  Product_Category_1  \\\n",
       "count  5.375770e+05  537577.00000   537577.000000       537577.000000   \n",
       "mean   1.002992e+06       8.08271        0.408797            5.295546   \n",
       "std    1.714393e+03       6.52412        0.491612            3.750701   \n",
       "min    1.000001e+06       0.00000        0.000000            1.000000   \n",
       "25%    1.001495e+06       2.00000        0.000000            1.000000   \n",
       "50%    1.003031e+06       7.00000        0.000000            5.000000   \n",
       "75%    1.004417e+06      14.00000        1.000000            8.000000   \n",
       "max    1.006040e+06      20.00000        1.000000           18.000000   \n",
       "\n",
       "       Product_Category_2  Product_Category_3       Purchase  \n",
       "count       370591.000000       164278.000000  537577.000000  \n",
       "mean             9.842144           12.669840    9333.859853  \n",
       "std              5.087259            4.124341    4981.022133  \n",
       "min              2.000000            3.000000     185.000000  \n",
       "25%              5.000000            9.000000    5866.000000  \n",
       "50%              9.000000           14.000000    8062.000000  \n",
       "75%             15.000000           16.000000   12073.000000  \n",
       "max             18.000000           18.000000   23961.000000  "
      ]
     },
     "execution_count": 123,
     "metadata": {},
     "output_type": "execute_result"
    }
   ],
   "source": [
    "#summary of the dataset\n",
    "df_regression.describe()"
   ]
  },
  {
   "cell_type": "code",
   "execution_count": 124,
   "metadata": {},
   "outputs": [
    {
     "data": {
      "text/plain": [
       "array(['User_ID', 'Product_ID', 'Gender', 'Age', 'Occupation',\n",
       "       'City_Category', 'Stay_In_Current_City_Years', 'Marital_Status',\n",
       "       'Product_Category_1', 'Product_Category_2', 'Product_Category_3',\n",
       "       'Purchase'], dtype=object)"
      ]
     },
     "execution_count": 124,
     "metadata": {},
     "output_type": "execute_result"
    }
   ],
   "source": [
    "#finding the feature names in the dataset\n",
    "df_regression.columns.values"
   ]
  },
  {
   "cell_type": "code",
   "execution_count": 125,
   "metadata": {},
   "outputs": [
    {
     "data": {
      "text/plain": [
       "12"
      ]
     },
     "execution_count": 125,
     "metadata": {},
     "output_type": "execute_result"
    }
   ],
   "source": [
    "#Counting the number of features in the dataset\n",
    "len(df_regression.columns)"
   ]
  },
  {
   "cell_type": "code",
   "execution_count": 126,
   "metadata": {},
   "outputs": [
    {
     "data": {
      "text/plain": [
       "(23961, 185)"
      ]
     },
     "execution_count": 126,
     "metadata": {},
     "output_type": "execute_result"
    }
   ],
   "source": [
    "#maximum purchase in the store , minimum purchase in the store\n",
    "max(df_regression['Purchase']), min(df_regression['Purchase'])"
   ]
  },
  {
   "cell_type": "code",
   "execution_count": 127,
   "metadata": {},
   "outputs": [
    {
     "data": {
      "text/plain": [
       "User_ID                       False\n",
       "Product_ID                    False\n",
       "Gender                        False\n",
       "Age                           False\n",
       "Occupation                    False\n",
       "City_Category                 False\n",
       "Stay_In_Current_City_Years    False\n",
       "Marital_Status                False\n",
       "Product_Category_1            False\n",
       "Product_Category_2             True\n",
       "Product_Category_3             True\n",
       "Purchase                      False\n",
       "dtype: bool"
      ]
     },
     "execution_count": 127,
     "metadata": {},
     "output_type": "execute_result"
    }
   ],
   "source": [
    "#checking for which columns have empty values or no values\n",
    "df_regression.isna().any()"
   ]
  },
  {
   "cell_type": "code",
   "execution_count": 128,
   "metadata": {},
   "outputs": [
    {
     "data": {
      "text/plain": [
       "User_ID                            0\n",
       "Product_ID                         0\n",
       "Gender                             0\n",
       "Age                                0\n",
       "Occupation                         0\n",
       "City_Category                      0\n",
       "Stay_In_Current_City_Years         0\n",
       "Marital_Status                     0\n",
       "Product_Category_1                 0\n",
       "Product_Category_2            166986\n",
       "Product_Category_3            373299\n",
       "Purchase                           0\n",
       "dtype: int64"
      ]
     },
     "execution_count": 128,
     "metadata": {},
     "output_type": "execute_result"
    }
   ],
   "source": [
    "#checking for the columns which has no values and counting number of such values\n",
    "df_regression.isnull().sum()"
   ]
  },
  {
   "cell_type": "code",
   "execution_count": 129,
   "metadata": {},
   "outputs": [
    {
     "data": {
      "text/plain": [
       "(537577, 12)"
      ]
     },
     "execution_count": 129,
     "metadata": {},
     "output_type": "execute_result"
    }
   ],
   "source": [
    "#The shape of the dataset\n",
    "df_regression.shape"
   ]
  },
  {
   "cell_type": "code",
   "execution_count": 130,
   "metadata": {},
   "outputs": [],
   "source": [
    " df_regression.drop(columns=['User_ID', 'Product_ID'], inplace=True)"
   ]
  },
  {
   "cell_type": "markdown",
   "metadata": {},
   "source": [
    "* Since the User_ID and Product_ID are not relevant to which we are predicting becuase the every sample is a trasaction obeserved at the store so we are removing the Product_ID and User_ID features from the dataset"
   ]
  },
  {
   "cell_type": "code",
   "execution_count": 131,
   "metadata": {},
   "outputs": [],
   "source": [
    "#filling the empty values with 0 \n",
    "df_regression.fillna(value=0, inplace=True)"
   ]
  },
  {
   "cell_type": "code",
   "execution_count": 132,
   "metadata": {},
   "outputs": [],
   "source": [
    "#making the float type of product category 2 and 3 to integer type \n",
    "df_regression['Product_Category_2'] = df_regression['Product_Category_2'].astype(int)\n",
    "df_regression['Product_Category_3'] = df_regression['Product_Category_3'].astype(int)"
   ]
  },
  {
   "cell_type": "code",
   "execution_count": 133,
   "metadata": {},
   "outputs": [
    {
     "data": {
      "text/html": [
       "<div>\n",
       "<style scoped>\n",
       "    .dataframe tbody tr th:only-of-type {\n",
       "        vertical-align: middle;\n",
       "    }\n",
       "\n",
       "    .dataframe tbody tr th {\n",
       "        vertical-align: top;\n",
       "    }\n",
       "\n",
       "    .dataframe thead th {\n",
       "        text-align: right;\n",
       "    }\n",
       "</style>\n",
       "<table border=\"1\" class=\"dataframe\">\n",
       "  <thead>\n",
       "    <tr style=\"text-align: right;\">\n",
       "      <th></th>\n",
       "      <th>Gender</th>\n",
       "      <th>Age</th>\n",
       "      <th>Occupation</th>\n",
       "      <th>City_Category</th>\n",
       "      <th>Stay_In_Current_City_Years</th>\n",
       "      <th>Marital_Status</th>\n",
       "      <th>Product_Category_1</th>\n",
       "      <th>Product_Category_2</th>\n",
       "      <th>Product_Category_3</th>\n",
       "      <th>Purchase</th>\n",
       "    </tr>\n",
       "  </thead>\n",
       "  <tbody>\n",
       "    <tr>\n",
       "      <th>0</th>\n",
       "      <td>F</td>\n",
       "      <td>0-17</td>\n",
       "      <td>10</td>\n",
       "      <td>A</td>\n",
       "      <td>2</td>\n",
       "      <td>0</td>\n",
       "      <td>3</td>\n",
       "      <td>0</td>\n",
       "      <td>0</td>\n",
       "      <td>8370</td>\n",
       "    </tr>\n",
       "    <tr>\n",
       "      <th>1</th>\n",
       "      <td>F</td>\n",
       "      <td>0-17</td>\n",
       "      <td>10</td>\n",
       "      <td>A</td>\n",
       "      <td>2</td>\n",
       "      <td>0</td>\n",
       "      <td>1</td>\n",
       "      <td>6</td>\n",
       "      <td>14</td>\n",
       "      <td>15200</td>\n",
       "    </tr>\n",
       "    <tr>\n",
       "      <th>2</th>\n",
       "      <td>F</td>\n",
       "      <td>0-17</td>\n",
       "      <td>10</td>\n",
       "      <td>A</td>\n",
       "      <td>2</td>\n",
       "      <td>0</td>\n",
       "      <td>12</td>\n",
       "      <td>0</td>\n",
       "      <td>0</td>\n",
       "      <td>1422</td>\n",
       "    </tr>\n",
       "    <tr>\n",
       "      <th>3</th>\n",
       "      <td>F</td>\n",
       "      <td>0-17</td>\n",
       "      <td>10</td>\n",
       "      <td>A</td>\n",
       "      <td>2</td>\n",
       "      <td>0</td>\n",
       "      <td>12</td>\n",
       "      <td>14</td>\n",
       "      <td>0</td>\n",
       "      <td>1057</td>\n",
       "    </tr>\n",
       "    <tr>\n",
       "      <th>4</th>\n",
       "      <td>M</td>\n",
       "      <td>55+</td>\n",
       "      <td>16</td>\n",
       "      <td>C</td>\n",
       "      <td>4+</td>\n",
       "      <td>0</td>\n",
       "      <td>8</td>\n",
       "      <td>0</td>\n",
       "      <td>0</td>\n",
       "      <td>7969</td>\n",
       "    </tr>\n",
       "  </tbody>\n",
       "</table>\n",
       "</div>"
      ],
      "text/plain": [
       "  Gender   Age  Occupation City_Category Stay_In_Current_City_Years  \\\n",
       "0      F  0-17          10             A                          2   \n",
       "1      F  0-17          10             A                          2   \n",
       "2      F  0-17          10             A                          2   \n",
       "3      F  0-17          10             A                          2   \n",
       "4      M   55+          16             C                         4+   \n",
       "\n",
       "   Marital_Status  Product_Category_1  Product_Category_2  Product_Category_3  \\\n",
       "0               0                   3                   0                   0   \n",
       "1               0                   1                   6                  14   \n",
       "2               0                  12                   0                   0   \n",
       "3               0                  12                  14                   0   \n",
       "4               0                   8                   0                   0   \n",
       "\n",
       "   Purchase  \n",
       "0      8370  \n",
       "1     15200  \n",
       "2      1422  \n",
       "3      1057  \n",
       "4      7969  "
      ]
     },
     "execution_count": 133,
     "metadata": {},
     "output_type": "execute_result"
    }
   ],
   "source": [
    "df_regression.head()"
   ]
  },
  {
   "cell_type": "code",
   "execution_count": 134,
   "metadata": {},
   "outputs": [
    {
     "name": "stdout",
     "output_type": "stream",
     "text": [
      "<class 'pandas.core.frame.DataFrame'>\n",
      "RangeIndex: 537577 entries, 0 to 537576\n",
      "Data columns (total 23 columns):\n",
      "Occupation                       537577 non-null int64\n",
      "Marital_Status                   537577 non-null int64\n",
      "Product_Category_1               537577 non-null int64\n",
      "Product_Category_2               537577 non-null int32\n",
      "Product_Category_3               537577 non-null int32\n",
      "Purchase                         537577 non-null int64\n",
      "Gender_F                         537577 non-null uint8\n",
      "Gender_M                         537577 non-null uint8\n",
      "Stay_In_Current_City_Years_0     537577 non-null uint8\n",
      "Stay_In_Current_City_Years_1     537577 non-null uint8\n",
      "Stay_In_Current_City_Years_2     537577 non-null uint8\n",
      "Stay_In_Current_City_Years_3     537577 non-null uint8\n",
      "Stay_In_Current_City_Years_4+    537577 non-null uint8\n",
      "Age_0-17                         537577 non-null uint8\n",
      "Age_18-25                        537577 non-null uint8\n",
      "Age_26-35                        537577 non-null uint8\n",
      "Age_36-45                        537577 non-null uint8\n",
      "Age_46-50                        537577 non-null uint8\n",
      "Age_51-55                        537577 non-null uint8\n",
      "Age_55+                          537577 non-null uint8\n",
      "City_Category_A                  537577 non-null uint8\n",
      "City_Category_B                  537577 non-null uint8\n",
      "City_Category_C                  537577 non-null uint8\n",
      "dtypes: int32(2), int64(4), uint8(17)\n",
      "memory usage: 29.2 MB\n"
     ]
    },
    {
     "data": {
      "text/plain": [
       "22"
      ]
     },
     "execution_count": 134,
     "metadata": {},
     "output_type": "execute_result"
    }
   ],
   "source": [
    "cols_to_transform = [ 'Gender', 'Stay_In_Current_City_Years','Age', 'City_Category' ]\n",
    "df_with_dummies = pd.get_dummies( df_regression,columns = cols_to_transform )\n",
    "df_with_dummies.info()\n",
    "blackFriday_T = df_with_dummies['Purchase']\n",
    "blackFriday_X = df_with_dummies.drop(columns=['Purchase'])\n",
    "len(blackFriday_X.columns)\n"
   ]
  },
  {
   "cell_type": "markdown",
   "metadata": {},
   "source": [
    "* PreProcessing using *_One Hot Encoding_* of the categorical data is done above\n",
    "* Preparing the data\n",
    "    * blackFriday_X is the features variable for our regression analysis\n",
    "    * blackFriday_Y is the target varialbe for our regression analysis"
   ]
  },
  {
   "cell_type": "markdown",
   "metadata": {},
   "source": [
    "## Visualization of Data"
   ]
  },
  {
   "cell_type": "code",
   "execution_count": 135,
   "metadata": {
    "scrolled": true
   },
   "outputs": [
    {
     "data": {
      "text/plain": [
       "(array([ 32175.,  57237., 130109., 104444.,  79179.,  24980.,  63928.,\n",
       "         13437.,  29772.,   2316.]),\n",
       " array([  185. ,  2562.6,  4940.2,  7317.8,  9695.4, 12073. , 14450.6,\n",
       "        16828.2, 19205.8, 21583.4, 23961. ]),\n",
       " <a list of 10 Patch objects>)"
      ]
     },
     "execution_count": 135,
     "metadata": {},
     "output_type": "execute_result"
    },
    {
     "data": {
      "image/png": "[encoded data removed]",
      "text/plain": [
       "<Figure size 432x288 with 1 Axes>"
      ]
     },
     "metadata": {
      "needs_background": "light"
     },
     "output_type": "display_data"
    }
   ],
   "source": [
    "plt.hist(blackFriday_T)"
   ]
  },
  {
   "cell_type": "markdown",
   "metadata": {},
   "source": [
    "* we can see that majority of the purchases amounts falls in between 5000 to 10000 dollars. We can also observe mean of the purchases to be $9333"
   ]
  },
  {
   "cell_type": "code",
   "execution_count": 136,
   "metadata": {
    "scrolled": true
   },
   "outputs": [
    {
     "data": {
      "text/plain": [
       "(Text(0.5, 0, 'Occupation ID'), Text(0.5, 0, 'City id'))"
      ]
     },
     "execution_count": 136,
     "metadata": {},
     "output_type": "execute_result"
    },
    {
     "data": {
      "image/png": "[encoded data removed]",
      "text/plain": [
       "<Figure size 1152x864 with 4 Axes>"
      ]
     },
     "metadata": {
      "needs_background": "light"
     },
     "output_type": "display_data"
    }
   ],
   "source": [
    "fig, axes = plt.subplots(nrows=2, ncols=2)\n",
    "\n",
    "plt1 = df_regression['Gender'].value_counts().plot(ax=axes[0,0],kind='bar',title='Gender Distribution',figsize=(16,12))\n",
    "df_regression['Age'].value_counts().plot(ax=axes[0,1],kind='bar',title='Age Distribution in the data',figsize=(16,12))\n",
    "df_regression['Occupation'].value_counts().plot(ax=axes[1,0],kind='bar',title='Occupation Distribution',figsize=(16,12))\n",
    "df_regression['City_Category'].value_counts().plot(ax=axes[1,1],kind='bar',title='Distribution of City category',figsize=(16,12))\n",
    "axes[0][0].set_ylabel(\"Count\"),axes[0][1].set_ylabel(\"Count\")\n",
    "axes[1][0].set_ylabel(\"Count\"),axes[1][1].set_ylabel(\"Count\")\n",
    "axes[0][0].set_xlabel(\"Gender Category\"),axes[0][1].set_xlabel(\"Age Category\")\n",
    "axes[1][0].set_xlabel(\"Occupation ID\"),axes[1][1].set_xlabel(\"City id\")"
   ]
  },
  {
   "cell_type": "code",
   "execution_count": 137,
   "metadata": {
    "scrolled": true
   },
   "outputs": [
    {
     "data": {
      "text/plain": [
       "<matplotlib.axes._subplots.AxesSubplot at 0x19b02b07080>"
      ]
     },
     "execution_count": 137,
     "metadata": {},
     "output_type": "execute_result"
    },
    {
     "data": {
      "image/png": "[encoded data removed]",
      "text/plain": [
       "<Figure size 1152x864 with 4 Axes>"
      ]
     },
     "metadata": {
      "needs_background": "light"
     },
     "output_type": "display_data"
    }
   ],
   "source": [
    "fig1, axes1 = plt.subplots(nrows=2, ncols=2)\n",
    "\n",
    "df_regression['Marital_Status'].value_counts().plot(ax=axes1[0,0],kind='barh',title='Marital Status Distribution',figsize=(16,12))\n",
    "df_regression['Product_Category_1'].value_counts().plot(ax=axes1[0,1],kind='barh',title='Product Category-1 Distribution',figsize=(16,12))\n",
    "df_regression['Product_Category_2'].value_counts().plot(ax=axes1[1,0],kind='barh',title='Product Category-2 Distribution',figsize=(16,12))\n",
    "df_regression['Product_Category_3'].value_counts().plot(ax=axes1[1,1],kind='barh',title='Product Category-3 Distribution',figsize=(16,12))\n",
    "\n",
    "# df_regression['Stay_In_Current_City_Years'].value_counts().plot(ax=axes[2,0],kind='barh',title='Stay In Current City in Years',figsize=(16,12))"
   ]
  },
  {
   "cell_type": "markdown",
   "metadata": {},
   "source": [
    "## Preliminary observation\n",
    "<font color=\"green\">* \"Sample Plot title Name\" - Observations Made ( This is a reference )</font>\n",
    "#### The following are the observation made from the above plots\n",
    "* \"Gender Distribution Plot\" - we can see male are in majority in the dataset \n",
    "* \"Age Distribution Plot\" - we can see age group (26-35) are in major in the dataset\n",
    "* \"Occupation Distribution Plot\" - we can observe that occupation ID \"4\" are highest in number in the dataset and occupation id \"0\" are in next in number\n",
    "* \"City Distribution Plot\" - we can see City id \"B\" are more in count at the store on Black Friday sales\n",
    "* \"Martial Status Distribution Plot\" - we observe that there is more count of unmarried people at the store\n",
    "* \"Product Category -1 Distribution Plot\" -we see that product id 5,1,8 occupy majority of the sales\n",
    "* \"Product Category - 2 Distribution Plot\" - we found that highest number of product id is 0, which is unclassified. Since we have filled empty values as zero, we observe that in product category 2 many products which doesn't have any product id in the dataset were sold on black firday\n",
    "* \"Product Category -3 Distribution Plot\" - we found the similar case as product category -2 which is most of the products does not have any product id were sold in major portion"
   ]
  },
  {
   "cell_type": "markdown",
   "metadata": {},
   "source": [
    "# Method\n",
    "\n",
    "## Summary of the linear models least-squares and LMS \n",
    "\n",
    "### Review of the linear models \n",
    "#### Least Sqaures\n",
    "* In Least Squares Method, the cost function is the sum of Euclidean distances between the target values and the model outputs and we need to minimize this cost funtion to find the good fit to our model\n",
    "* The square term leads the distance between the target and model outputs not biased on few samples. \n",
    "* As the error function is quadratic, this problem can be solve using by simply putting the cost function derivative to zero. \n",
    "* After solving the cost function we get the weights matrix as below \n",
    "            \\wv &= \\big(\\Xm^\\top \\Xm\\big)^{-1} \\Xm^\\top \\tv\n",
    "* We directly get the weights from the above matrix and we can predict the output by training the model with the above weights\n",
    "* There might the the case that inverse does not exists. So we should use Pseudo inverse while using the above matrix multiplication to find weights \n",
    "$$\n",
    "\\begin{align}\n",
    "w &= \\big(X^\\top X\\big)^{-1} X^\\top t\n",
    "\\end{align}\n",
    "$$\n",
    "\n",
    "#### Least Mean Squares\n",
    "* Since the Least squares can be computationally expensive especically with the large datasets, we consider sequential learning or online learning.\n",
    "* During the online learning, we intro the datapoints one by one and update the weights/ parameters. \n",
    "* Using the updated parameters, the model makes a new estimation and repeat the steps.\n",
    "For this, we start with an initial guess $\\wv$ and changes it as it reads more data until it converges. \n",
    "When $k$ represents the steps for the repetition,\n",
    "\n",
    "$$\n",
    "w^{(k+1)} = w^{(k)} - \\alpha \\nabla E_k \n",
    "$$\n",
    "\n",
    "where $E_k$ is the error for the $k$'th sample and $\\alpha$ is a learning rate. \n",
    "This is called *stochastic gradient descent* or *sequential gradient descent*. \n",
    "* After solving above we can get the following update rule for each sample\n",
    "This gives the following update rule for each sample:\n",
    "\n",
    "$$\n",
    "w^{(k+1)} = w^{(k)} - \\alpha \\Big( {w^{(k)}}^\\top x_k - t_k \\Big) x_k.\n",
    "$$\n",
    "* We use the above update rule for each of the sample in our data set passing one by one and finally we will get the best weights possible at the end. we use those weights to inference the values using this weights in the model\n",
    "\n",
    "\n",
    "### Implementation and description\n",
    "\n",
    "#### Least Squares\n",
    "\n",
    "* In the train method defined below, I have implemented the formula of matrix multiplication that we got from our review of Least Squares method above to find the weights\n",
    "* I have added the bias term using add_ones method in the base class which will add ones to the dataset \n",
    "* Since there might be possibility of matrix inverese doesn't exists at all, I used **pinv** psuedo inverse function from python to find the weights. \n",
    "* After I got the weights from the train method, I used the weights of the trained model to predict the output using use(X) method \n",
    "\n",
    "#### Least Mean Squares\n",
    "\n",
    "* As we are using online learning algorithm in the least mean squares method, I have implemented Stochastic Gradient Descent here to minimize the cost function\n",
    "* I have added the bias term using add_ones method in the base class which will add ones to the dataset \n",
    "* In the train_step Method, I am passing the one record at the time with the label.Using the update rule for each sample we got from the review $$\n",
    "w^{(k+1)} = w^{(k)} - \\alpha \\Big( {w^{(k)}}^\\top x_k - t_k \\Big) x_k.\n",
    "$$\n",
    "I have implemented this equation in the train_step method so that after each sample has been passed, we will get the updated weights\n",
    "* In the train Method I am using the weights obtained from the train_step method and later sending the next sample to find the next weights \n",
    "* I have also added losses variable to keep track of the loss for every 1000 samples \n",
    "* Like wise I am passing all the data using train Method one by one. At the end, we will have the final weights or converged weights where the model fits the best as we are stochastic gradient descent with hyperparameteres alpha\n",
    "* Using use Method, I am predcting the sample outputs using the weights obtained from the train_method\n"
   ]
  },
  {
   "cell_type": "markdown",
   "metadata": {},
   "source": [
    "### Super Classs Definition"
   ]
  },
  {
   "cell_type": "code",
   "execution_count": 138,
   "metadata": {},
   "outputs": [],
   "source": [
    "import numpy as np \n",
    "from abc import ABC, abstractmethod\n",
    "\n",
    "# Super class for machine learning models \n",
    "\n",
    "class BaseModel(ABC):\n",
    "    \"\"\" Super class for ITCS Machine Learning Class\"\"\"\n",
    "    \n",
    "    @abstractmethod\n",
    "    def train(self, X, T):\n",
    "        pass\n",
    "\n",
    "    @abstractmethod\n",
    "    def use(self, X):\n",
    "        pass\n",
    "\n",
    "    \n",
    "class LinearModel(BaseModel):\n",
    "    \"\"\"\n",
    "        Abstract class for a linear model \n",
    "        \n",
    "        Attributes\n",
    "        ==========\n",
    "        w       ndarray\n",
    "                weight vector/matrix\n",
    "    \"\"\"\n",
    "\n",
    "    def __init__(self):\n",
    "        \"\"\"\n",
    "            weight vector w is initialized as None\n",
    "        \"\"\"\n",
    "        self.w = None\n",
    "#         rint(\"#\"*100, w)\n",
    "\n",
    "    # check if the matrix is 2-dimensional. if not, raise an exception    \n",
    "    def _check_matrix(self, mat, name):\n",
    "        if len(mat.shape) != 2:\n",
    "            raise ValueError(''.join([\"Wrong matrix \", name]))\n",
    "        \n",
    "    # add a basis\n",
    "    def add_ones(self, X):\n",
    "        \"\"\"\n",
    "            add a column basis to X input matrix\n",
    "        \"\"\"\n",
    "        self._check_matrix(X, 'X')\n",
    "        return np.hstack((np.ones((X.shape[0], 1)), X))\n",
    "\n",
    "    ####################################################\n",
    "    #### abstract funcitons ############################\n",
    "    @abstractmethod\n",
    "    def train(self, X, T):\n",
    "        \"\"\"\n",
    "            train linear model\n",
    "            \n",
    "            parameters\n",
    "            -----------\n",
    "            X     2d array\n",
    "                  input data\n",
    "            T     2d array\n",
    "                  target labels\n",
    "        \"\"\"        \n",
    "        \n",
    "        pass\n",
    "    \n",
    "    @abstractmethod\n",
    "    def use(self, X):\n",
    "        \"\"\"\n",
    "            apply the learned model to input X\n",
    "            \n",
    "            parameters\n",
    "            ----------\n",
    "            X     2d array\n",
    "                  input data\n",
    "            \n",
    "        \"\"\"        \n",
    "        pass "
   ]
  },
  {
   "cell_type": "markdown",
   "metadata": {},
   "source": [
    "### Least Squares"
   ]
  },
  {
   "cell_type": "code",
   "execution_count": 139,
   "metadata": {},
   "outputs": [],
   "source": [
    "# Linear Regression Class for least squares\n",
    "class LinearRegress(LinearModel): \n",
    "    \"\"\" \n",
    "        LinearRegress class \n",
    "        \n",
    "        attributes\n",
    "        ===========\n",
    "        w    nd.array  (column vector/matrix)\n",
    "             weights\n",
    "    \"\"\"\n",
    "    def __init__(self):\n",
    "        LinearModel.__init__(self)\n",
    "        \n",
    "        \n",
    "    # train lease-squares model\n",
    "    def train(self, X, T):\n",
    "        N = X.shape[0]\n",
    "        X = self.add_ones(X)\n",
    "        self.w = np.linalg.pinv(X.T @ X) @ X.T @ T\n",
    "        return self.w\n",
    "        \n",
    "        \n",
    "        \n",
    "#         pass  ## TODO: replace this with your codes\n",
    "    \n",
    "    # apply the learned model to data X\n",
    "    def use(self, X):\n",
    "        X = self.add_ones(X)\n",
    "        yhat = X@self.w\n",
    "#         print(\"d\"*19, yhat.shape)\n",
    "        return yhat\n",
    "            \n",
    "#         pass  ## TODO: replace this with your codes"
   ]
  },
  {
   "cell_type": "markdown",
   "metadata": {},
   "source": [
    "### Least Mean Squares"
   ]
  },
  {
   "cell_type": "code",
   "execution_count": 140,
   "metadata": {},
   "outputs": [],
   "source": [
    "import collections # for checking iterable instance\n",
    "\n",
    "# LMS class \n",
    "class LMS(LinearModel):\n",
    "    \"\"\"\n",
    "        Lease Mean Squares. online learning algorithm\n",
    "    \n",
    "        attributes\n",
    "        ==========\n",
    "        w        nd.array\n",
    "                 weight matrix\n",
    "        alpha    float\n",
    "                 learning rate\n",
    "    \"\"\"\n",
    "    def __init__(self, alpha):\n",
    "        LinearModel.__init__(self)\n",
    "        self.alpha = alpha\n",
    "        self.losses = []\n",
    "        \n",
    "    \n",
    "    # batch training by using train_step function\n",
    "    def train(self, X, T):\n",
    "        \n",
    "        for i in range(len(T)):\n",
    "            self.w = self.train_step(X[i], T[i])\n",
    "            if(i % 10000 ==0):\n",
    "                self.losses.append(np.sum((self.add_ones(X)@self.w - T)**2))\n",
    "            \n",
    "        return self.w\n",
    "    \n",
    "#     def train(self, X, T):\n",
    "#         X = self.add_ones(X)\n",
    "#         numIterations = 1000\n",
    "#         m = len(T)\n",
    "#         self.w = np.zeros(len(X[0])).reshape(-1,1)\n",
    "#         print(self.w.shape, \"wshape is \")\n",
    "# #         print(w,\"wwwwwisthis\", X)\n",
    "#         xTrans = X.transpose()\n",
    "#         print(xTrans.shape)\n",
    "#         for i in range(0, numIterations):\n",
    "#             hypothesis = np.dot(X, self.w)\n",
    "#             print(hypothesis.shape, T.shape, \"**\"*10)\n",
    "#             loss = hypothesis - T\n",
    "#             # avg cost per example (the 2 in 2*m doesn't really matter here.\n",
    "#             # But to be consistent with the gradient, I include it)\n",
    "# #             m = len(T)\n",
    "#             cost = np.sum(loss ** 2) / (2 * m)\n",
    "# #             print(\"Iteration %d | Cost: %f\" % (i, cost))\n",
    "#             # avg gradient per example\n",
    "#             gradient = xTrans@loss / m\n",
    "#             # update\n",
    "# #             print(gradient.shape, \"#\"*10)\n",
    "#             self.w = self.w - self.alpha * gradient\n",
    "#         return self.w\n",
    "#         pass  ## TODO: replace this with your codes\n",
    "            \n",
    "    # train LMS model one step \n",
    "    # here the x is 1d vector\n",
    "    def train_step(self, x, t):\n",
    "        x= np.hstack((np.ones((1)), x))\n",
    "        if self.w is None:\n",
    "#             x= np.hstack((np.ones((1)), x))\n",
    "            self.w = np.zeros(len(x))\n",
    "#         x = np.atleast_2d(x)\n",
    "#         print( \"^\"*10,self.w, self.w.shape, x.shape)\n",
    "#             self.w = np.zeros(len(x.shape[0]).reshape(-1,1)\n",
    "#             print(\"%\"*10, x.shape, self.w.shape, self.w)\n",
    "        delta = x@self.w\n",
    "#         print(t,'9999999')\n",
    "        loss = delta - t\n",
    "#         self.losses.append(loss**2)\n",
    "#         print(loss)\n",
    "        gradient = loss*x\n",
    "#         print(gradient,'aaa')\n",
    "        self.w = self.w - self.alpha*gradient\n",
    "#         print(self.w,'ppp'*10)\n",
    "        return self.w\n",
    "\n",
    "            \n",
    "            \n",
    "        pass  ## TODO: replace this with your codes\n",
    "    \n",
    "    # apply the current model to data X\n",
    "    def use(self, X):\n",
    "#         X =np.hstack((np.ones((X.shape[0], 1)), X))\n",
    "        X = self.add_ones(X)\n",
    "#         X1 = np.hstack(( np.ones((N,1)), X.reshape((-1, 1))   ))\n",
    "#         print(X.shape,\"lmsall buddy\")\n",
    "#         w = self.train(X, T)\n",
    "#         print(w,\"weight lms\")\n",
    "#         print(X.shape,\"   \", self.w.shape)\n",
    "        yhat = X@self.w\n",
    "#         print(\"yhat\"*10,yhat.shape)\n",
    "        return np.atleast_2d(yhat).T\n",
    "        \n",
    "        \n",
    "#         pass  ## TODO: replace this with your codes\n",
    "        "
   ]
  },
  {
   "cell_type": "markdown",
   "metadata": {},
   "source": [
    "### Usage Examples"
   ]
  },
  {
   "cell_type": "code",
   "execution_count": 141,
   "metadata": {},
   "outputs": [],
   "source": [
    "# HERE follow are for my code tests.\n",
    "\n",
    "import matplotlib.pyplot as plt\n",
    "%matplotlib inline"
   ]
  },
  {
   "cell_type": "code",
   "execution_count": 142,
   "metadata": {
    "scrolled": true
   },
   "outputs": [
    {
     "data": {
      "text/plain": [
       "[<matplotlib.lines.Line2D at 0x19b0253f048>]"
      ]
     },
     "execution_count": 142,
     "metadata": {},
     "output_type": "execute_result"
    },
    {
     "data": {
      "image/png": "[encoded data removed]",
      "text/plain": [
       "<Figure size 432x288 with 1 Axes>"
      ]
     },
     "metadata": {
      "needs_background": "light"
     },
     "output_type": "display_data"
    }
   ],
   "source": [
    "X = np.linspace(0,10, 11).reshape((-1, 1))\n",
    "T = -2 * X +3.2\n",
    "# print(X)\n",
    "ls = LinearRegress()\n",
    "ls.train(X, T)\n",
    "\n",
    "plt.plot(ls.use(X))"
   ]
  },
  {
   "cell_type": "code",
   "execution_count": 143,
   "metadata": {},
   "outputs": [
    {
     "data": {
      "image/png": "[encoded data removed]",
      "text/plain": [
       "<Figure size 432x288 with 1 Axes>"
      ]
     },
     "metadata": {
      "needs_background": "light"
     },
     "output_type": "display_data"
    }
   ],
   "source": [
    "lms = LMS(0.1)\n",
    "for x, t in zip(X, T):\n",
    "    lms.train_step(x, t)\n",
    "#     print(x.shape, t.shape)\n",
    "    plt.plot(lms.use(X))\n",
    "    "
   ]
  },
  {
   "cell_type": "code",
   "execution_count": 144,
   "metadata": {},
   "outputs": [
    {
     "data": {
      "text/plain": [
       "[<matplotlib.lines.Line2D at 0x19b02c90080>]"
      ]
     },
     "execution_count": 144,
     "metadata": {},
     "output_type": "execute_result"
    },
    {
     "data": {
      "image/png": "[encoded data removed]",
      "text/plain": [
       "<Figure size 432x288 with 1 Axes>"
      ]
     },
     "metadata": {
      "needs_background": "light"
     },
     "output_type": "display_data"
    }
   ],
   "source": [
    "lms.train(X, T)\n",
    "plt.plot(lms.use(X))"
   ]
  },
  {
   "cell_type": "markdown",
   "metadata": {},
   "source": [
    "# Preliminary Test\n",
    "\n",
    "After finishing the implmentation of LinearRegress and LMS classes, run the following cell to test if your implementation is correct. Make sure and check your codes to pass all three tests as in sample outputs. "
   ]
  },
  {
   "cell_type": "code",
   "execution_count": 145,
   "metadata": {},
   "outputs": [
    {
     "name": "stdout",
     "output_type": "stream",
     "text": [
      "training  LS ...\n",
      "training  LMS_All ...\n",
      "training  LMS_1STEP ...\n",
      "---- Testing  LS ... passed.\n",
      "---- Testing  LMS_All ... passed.\n",
      "---- Testing  LMS_1STEP ... passed.\n"
     ]
    }
   ],
   "source": [
    "##################### WHAT I WILL RELEASE ############\n",
    "\n",
    "# Self-Test code for accuracy of your model - DO NOT MODIFY THIS\n",
    "# Primilnary test data\n",
    "X = np.array([[2,5],\n",
    "              [6,2],\n",
    "              [1,9],\n",
    "              [4,5],\n",
    "              [6,3],\n",
    "              [7,4],\n",
    "              [8,3]])\n",
    "T = X[:,0, None] * 3 - 2 * X[:, 1, None] + 3\n",
    "N = X.shape[0]\n",
    "\n",
    "def rmse(T, Y):\n",
    "    return np.sqrt(np.sum((T-Y)**2))\n",
    "\n",
    "model_names = ['LS', 'LMS_All', 'LMS_1STEP']\n",
    "models = [LinearRegress(), LMS(0.02), LMS(0.02)]\n",
    "#train\n",
    "for i, model in enumerate(models):\n",
    "    print(\"training \", model_names[i], \"...\") \n",
    "    if i == len(models) -1: \n",
    "        # train only one step for LMS2\n",
    "        model.train_step(X[0], T[0])\n",
    "    else:\n",
    "        model.train(X, T)\n",
    "\n",
    "def check(a, b, eps=np.finfo(float).eps):\n",
    "    if abs(a-b) > eps:\n",
    "        print(\"failed.\", a, b)\n",
    "    else:\n",
    "        print(\"passed.\")\n",
    "\n",
    "errors = [1.19e-13, 2.8753214702, 38.0584918251]\n",
    "for i, model in enumerate(models):\n",
    "    print(\"---- Testing \", model_names[i], \"...\", end=\" \") \n",
    "    \n",
    "    # rmse test\n",
    "#     print(model.use(X))\n",
    "    err = rmse(T, model.use(X))\n",
    "    if check(err, errors[i], eps=1e-10):\n",
    "        print (\"check your weights: \", model.w)\n",
    "        print (\"oracle: \", )"
   ]
  },
  {
   "cell_type": "markdown",
   "metadata": {},
   "source": [
    "# Experiments\n",
    "\n",
    "### Description and Codes\n",
    "* Using the LS model, I have plotted the original values and the predicted for LS\n",
    "* Using the LMS model, I have plotted the original values and the predicate values for LMS\n",
    "* I have also calclulated the losses for every 10000 samples and as we can see it was first very high and gradually decreasing over time\n",
    "* I have also calcualted RMSE values for different values of alpha for LMS method\n",
    "* I have also used rmse method to calculate RMSE values for the predicted and original values\n",
    "* least squares and least mean sqaures perform similiar in our dataset\n",
    "\n"
   ]
  },
  {
   "cell_type": "markdown",
   "metadata": {},
   "source": [
    "### Visualization of Results"
   ]
  },
  {
   "cell_type": "markdown",
   "metadata": {},
   "source": [
    "## Least Squares Method"
   ]
  },
  {
   "cell_type": "code",
   "execution_count": 146,
   "metadata": {
    "scrolled": false
   },
   "outputs": [],
   "source": [
    "model_LS = LinearRegress()\n",
    "model_LS.train(blackFriday_X.values,blackFriday_T.values)\n",
    "yHat_LS = model_LS.use(blackFriday_X)\n",
    "# plt.plot(yHat_LS)"
   ]
  },
  {
   "cell_type": "code",
   "execution_count": 147,
   "metadata": {},
   "outputs": [
    {
     "data": {
      "image/png": "[encoded data removed]",
      "text/plain": [
       "<Figure size 1152x864 with 2 Axes>"
      ]
     },
     "metadata": {
      "needs_background": "light"
     },
     "output_type": "display_data"
    }
   ],
   "source": [
    "plt.figure(figsize=(16,12))\n",
    "# plt.figure.title('Comparision of original and predicted output values using Least Squares Method')\n",
    "x1 = np.array(range(len(blackFriday_T)))\n",
    "x2 = np.array(range(len(blackFriday_T)))\n",
    "\n",
    "y1 = blackFriday_T\n",
    "y2 = yHat_LS\n",
    "\n",
    "plt.subplot(1, 2, 1)\n",
    "plt.scatter(x1, y1)\n",
    "plt.title('Original Values ')\n",
    "plt.xlabel('Sample No.')\n",
    "plt.ylabel('Purchase Value')\n",
    "\n",
    "\n",
    "\n",
    "\n",
    "plt.subplot(1, 2, 2)\n",
    "plt.scatter(x2, y2)\n",
    "plt.title('Predicted values using our Least Squares Method')\n",
    "plt.xlabel('Sample No')\n",
    "plt.ylabel('Purchase Value')\n",
    "plt.ylim([0,max(blackFriday_T)])\n",
    "\n",
    "plt.show()"
   ]
  },
  {
   "cell_type": "code",
   "execution_count": 149,
   "metadata": {},
   "outputs": [
    {
     "name": "stdout",
     "output_type": "stream",
     "text": [
      "Original Min and Max values in the dataset MIN  185 MAX  23961 Predicted min and max values in the dataset MIN  3553.59433446809 MAX  13786.326695391906\n"
     ]
    }
   ],
   "source": [
    "print(\"Original Min and Max values in the dataset\",\"MIN \",min(blackFriday_T), \"MAX \",max(blackFriday_T),\"Predicted min and max values in the dataset\",\"MIN \" ,min(yHat_LS), \"MAX \",max(yHat_LS))"
   ]
  },
  {
   "cell_type": "code",
   "execution_count": 150,
   "metadata": {
    "scrolled": true
   },
   "outputs": [],
   "source": [
    "model_LMS = LMS(0.001)\n",
    "model_LMS.train(blackFriday_X.values, blackFriday_T.values)\n",
    "yHat_LMS = model_LMS.use(blackFriday_X.values)"
   ]
  },
  {
   "cell_type": "code",
   "execution_count": 151,
   "metadata": {
    "scrolled": true
   },
   "outputs": [
    {
     "data": {
      "image/png": "[encoded data removed]",
      "text/plain": [
       "<Figure size 1152x864 with 2 Axes>"
      ]
     },
     "metadata": {
      "needs_background": "light"
     },
     "output_type": "display_data"
    }
   ],
   "source": [
    "plt.figure(figsize=(16,12))\n",
    "# plt.figure.title('Comparision of original and predicted output values using Least Squares Method')\n",
    "x1 = np.array(range(len(blackFriday_T)))\n",
    "x2 = np.array(range(len(blackFriday_T)))\n",
    "\n",
    "y1 = blackFriday_T\n",
    "y2 = yHat_LMS\n",
    "\n",
    "plt.subplot(1, 2, 1)\n",
    "plt.scatter(x1, y1)\n",
    "plt.title('Original Values ')\n",
    "plt.xlabel('Sample No.')\n",
    "plt.ylabel('Purchase Value')\n",
    "\n",
    "\n",
    "\n",
    "\n",
    "plt.subplot(1, 2, 2)\n",
    "plt.scatter(x2, y2)\n",
    "plt.title('Predicted values using our Least Mean Squares Method')\n",
    "plt.xlabel('Sample No')\n",
    "plt.ylabel('Purchase Value')\n",
    "plt.ylim([0,max(blackFriday_T)])\n",
    "\n",
    "plt.show()"
   ]
  },
  {
   "cell_type": "markdown",
   "metadata": {},
   "source": [
    "## Visualization of losses"
   ]
  },
  {
   "cell_type": "code",
   "execution_count": 153,
   "metadata": {
    "scrolled": false
   },
   "outputs": [
    {
     "data": {
      "text/plain": [
       "[<matplotlib.lines.Line2D at 0x19b01129438>]"
      ]
     },
     "execution_count": 153,
     "metadata": {},
     "output_type": "execute_result"
    },
    {
     "data": {
      "image/png": "[encoded data removed]",
      "text/plain": [
       "<Figure size 432x288 with 1 Axes>"
      ]
     },
     "metadata": {
      "needs_background": "light"
     },
     "output_type": "display_data"
    }
   ],
   "source": [
    "plt.plot(model_LMS.losses)"
   ]
  },
  {
   "cell_type": "markdown",
   "metadata": {},
   "source": [
    "## Analysis and Comparision of Algorithms"
   ]
  },
  {
   "cell_type": "code",
   "execution_count": 154,
   "metadata": {},
   "outputs": [],
   "source": [
    "def rmse(T, Y):\n",
    "#     print(T.shape,Y.shape)\n",
    "    return np.sqrt(np.sum((T-Y)**2))/len(Y)"
   ]
  },
  {
   "cell_type": "code",
   "execution_count": 155,
   "metadata": {},
   "outputs": [
    {
     "data": {
      "text/plain": [
       "6.382644444844669"
      ]
     },
     "execution_count": 155,
     "metadata": {},
     "output_type": "execute_result"
    }
   ],
   "source": [
    "rmse(blackFriday_T, yHat_LMS.ravel())"
   ]
  },
  {
   "cell_type": "code",
   "execution_count": 156,
   "metadata": {},
   "outputs": [
    {
     "data": {
      "text/plain": [
       "6.3150743411315515"
      ]
     },
     "execution_count": 156,
     "metadata": {},
     "output_type": "execute_result"
    }
   ],
   "source": [
    "rmse(blackFriday_T, yHat_LS)"
   ]
  },
  {
   "cell_type": "code",
   "execution_count": 157,
   "metadata": {},
   "outputs": [],
   "source": [
    "model_LMS_alpha1 = LMS(0.01)\n",
    "model_LMS.train(blackFriday_X.values, blackFriday_T.values)\n",
    "yHat_LMS_alpha1 = model_LMS.use(blackFriday_X.values)"
   ]
  },
  {
   "cell_type": "code",
   "execution_count": 158,
   "metadata": {},
   "outputs": [
    {
     "data": {
      "text/plain": [
       "6.382644943980735"
      ]
     },
     "execution_count": 158,
     "metadata": {},
     "output_type": "execute_result"
    }
   ],
   "source": [
    "rmse(blackFriday_T, yHat_LMS_apha1.ravel())"
   ]
  },
  {
   "cell_type": "code",
   "execution_count": 159,
   "metadata": {},
   "outputs": [],
   "source": [
    "model_LMS_alpha2 = LMS(0.1)\n",
    "model_LMS.train(blackFriday_X.values, blackFriday_T.values)\n",
    "yHat_LMS_alpha2 = model_LMS.use(blackFriday_X.values)"
   ]
  },
  {
   "cell_type": "code",
   "execution_count": 160,
   "metadata": {},
   "outputs": [
    {
     "data": {
      "text/plain": [
       "6.382644943980735"
      ]
     },
     "execution_count": 160,
     "metadata": {},
     "output_type": "execute_result"
    }
   ],
   "source": [
    "rmse(blackFriday_T, yHat_LMS_alpha2.ravel())"
   ]
  },
  {
   "cell_type": "markdown",
   "metadata": {},
   "source": [
    "* The RMSE value calculated for LS method is 6.3150743411315515 and RMSE value for LMS method is 6.382644444844669\n",
    "* Hence we can see that both the models perform almost similar for the dataset\n",
    "* As we can see that the model performs almost same as LS  compared with LMS with aplha 0.01\n",
    "* As we can see that the model performs almost same as LS  compared with LMS with aplha 0.1\n",
    "* From the above loss graph we can see that the loss has decrased very high in the begining which is 10000 samples and then it keeps decreasing over time which proves that our algorithms is learning\n",
    "* When we see the predicted values of LS and LMS we can see that both the algorithms are learning as the RMSE values for bothe algorithms are almost similar.\n",
    "* The LS method may not work for huge data and if the data is such that the inverse doesnot exists, so LMS will be used for all such cases \n",
    "* The LMS using batch gradient descent also performs well with varied hyperparameters \n"
   ]
  },
  {
   "cell_type": "markdown",
   "metadata": {},
   "source": [
    "\n",
    "### Challenges\n",
    "* The implementation of train_step requires the dimension match which of the input variable and target variable inthe LMS method\n",
    "\n",
    "* The implementation of updation rule in the train step is also a challenging task.\n",
    "* The implemenation of matrix multiplication in LS requires to know the difference between  inverse and psuedo inverse and implementing using python\n",
    "\n",
    "\n",
    "\n",
    "# Conclusions\n",
    "* From the plots above for LS we can see that the prediction of our model ranges between ~4k to ~14k dollars for the puchase value whereas our purchase value in the original data ranges from 187 to 24k dollars\n",
    "* From the plots from above for LMS, we also see that the prediction of our model ranges from ~5k to ~14k dollars for the purchase value whereas our purchase value in the original data ranges from 187 to 24k dollars\n",
    "\n",
    " "
   ]
  },
  {
   "cell_type": "markdown",
   "metadata": {},
   "source": [
    "# References\n",
    "1. K. Fernandes, P. Vinagre and P. Cortez. A Proactive Intelligent Decision Support System for Predicting the Popularity of Online News. Proceedings of the 17th EPIA 2015 - Portuguese Conference on Artificial Intelligence, September, Coimbra, Portugal.\n",
    "2. https://www.kaggle.com/mehdidag/black-friday\n",
    "\n",
    "3. https://pandas.pydata.org/pandas-docs/stable/reference/api/pandas.Series.plot.html\n",
    "4. https://matplotlib.org/\n",
    "5. https://www.deeplearningbook.org/\n",
    "6. https://en.wikibooks.org/wiki/LaTeX/Mathematics"
   ]
  },
  {
   "cell_type": "code",
   "execution_count": null,
   "metadata": {},
   "outputs": [],
   "source": []
  }
 ],
 "metadata": {
  "kernelspec": {
   "display_name": "Python 3",
   "language": "python",
   "name": "python3"
  },
  "language_info": {
   "codemirror_mode": {
    "name": "ipython",
    "version": 3
   },
   "file_extension": ".py",
   "mimetype": "text/x-python",
   "name": "python",
   "nbconvert_exporter": "python",
   "pygments_lexer": "ipython3",
   "version": "3.7.1"
  }
 },
 "nbformat": 4,
 "nbformat_minor": 2
}
