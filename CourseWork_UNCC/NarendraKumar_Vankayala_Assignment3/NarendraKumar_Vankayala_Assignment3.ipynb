{
 "cells": [
  {
   "cell_type": "markdown",
   "metadata": {},
   "source": [
    "# Assignment #3 - Neural Networks\n",
    "\n",
    "### <font color=\"red\"> DUE: Apr 2 (Thursday) 11:00 pm </font>  "
   ]
  },
  {
   "cell_type": "markdown",
   "metadata": {},
   "source": [
    "<font color=\"blue\"> Narendra Kumar Vankayala </font>"
   ]
  },
  {
   "cell_type": "markdown",
   "metadata": {},
   "source": [
    "# I. Overview\n",
    "\n",
    "* In this assignment, I am going to use Neural Network for classification and Regression Datasets\n",
    "* I will be importing the Neural Network class given for Non- Linear Regression and use it for Regression Dataset\n",
    "* I will be implementing the Neural Network class for Non-Linear Logistic Regression and use it for Classification Dataset\n",
    "* I will also implement k Fold corss validation to find out the best such as alpha parameters for the Neural Network\n",
    "* The process of k fold cross validation is Leave One out method"
   ]
  },
  {
   "cell_type": "markdown",
   "metadata": {},
   "source": [
    "# II. Data\n",
    "\n",
    "Introduce your data and visualize them. Describe your observations about the data.\n",
    "You can reuse the data that you examined in Assignment #1 (of course for regression). "
   ]
  },
  {
   "cell_type": "markdown",
   "metadata": {},
   "source": [
    "# Introduction to Data"
   ]
  },
  {
   "cell_type": "markdown",
   "metadata": {},
   "source": [
    "* The dataset is a sample of the transactions made in a retail store on the event of Black Friday which occurs every year in the US.\n",
    "* The store wants to know better the customer purchase behaviour against different products.\n",
    "* The dataset has 537,577 observations and 12 features\n",
    "* The dataset contains different kinds of variables either categorial or numerical\n",
    "* The value which we infer is a dependent variable(the amount of purchase) with the help of the information contained in the other variables/features."
   ]
  },
  {
   "cell_type": "code",
   "execution_count": 4,
   "metadata": {},
   "outputs": [],
   "source": [
    "import numpy as np\n",
    "import pdb\n",
    "import pandas as pd\n",
    "import matplotlib.pyplot as plt\n",
    "import matplotlib.collections as mcol\n",
    "from matplotlib.legend_handler import HandlerLineCollection, HandlerTuple\n",
    "from matplotlib.lines import Line2D\n",
    "\n",
    "%matplotlib inline"
   ]
  },
  {
   "cell_type": "markdown",
   "metadata": {},
   "source": [
    "## Preprocessing the Data"
   ]
  },
  {
   "cell_type": "code",
   "execution_count": 2,
   "metadata": {},
   "outputs": [],
   "source": [
    "#The data is stored in a csv file named \"BlackFriday.csv\"\n",
    "df_regression = pd.read_csv(\"BlackFriday.csv\")"
   ]
  },
  {
   "cell_type": "code",
   "execution_count": 3,
   "metadata": {},
   "outputs": [
    {
     "data": {
      "text/plain": [
       "True"
      ]
     },
     "execution_count": 3,
     "metadata": {},
     "output_type": "execute_result"
    }
   ],
   "source": [
    "#checking if there are any nan values in the dataset for which we found \"True\"\n",
    "np.any(df_regression.isna())"
   ]
  },
  {
   "cell_type": "code",
   "execution_count": 4,
   "metadata": {},
   "outputs": [
    {
     "data": {
      "text/plain": [
       "True"
      ]
     },
     "execution_count": 4,
     "metadata": {},
     "output_type": "execute_result"
    }
   ],
   "source": [
    "#checking for null values in the dataset\n",
    "np.any(df_regression.isnull())"
   ]
  },
  {
   "cell_type": "code",
   "execution_count": 5,
   "metadata": {},
   "outputs": [
    {
     "name": "stdout",
     "output_type": "stream",
     "text": [
      "<class 'pandas.core.frame.DataFrame'>\n",
      "RangeIndex: 537577 entries, 0 to 537576\n",
      "Data columns (total 12 columns):\n",
      "User_ID                       537577 non-null int64\n",
      "Product_ID                    537577 non-null object\n",
      "Gender                        537577 non-null object\n",
      "Age                           537577 non-null object\n",
      "Occupation                    537577 non-null int64\n",
      "City_Category                 537577 non-null object\n",
      "Stay_In_Current_City_Years    537577 non-null object\n",
      "Marital_Status                537577 non-null int64\n",
      "Product_Category_1            537577 non-null int64\n",
      "Product_Category_2            370591 non-null float64\n",
      "Product_Category_3            164278 non-null float64\n",
      "Purchase                      537577 non-null int64\n",
      "dtypes: float64(2), int64(5), object(5)\n",
      "memory usage: 49.2+ MB\n"
     ]
    }
   ],
   "source": [
    "#sneak peak of the datatypes of all the features in the dataset\n",
    "df_regression.info()"
   ]
  },
  {
   "cell_type": "code",
   "execution_count": 6,
   "metadata": {},
   "outputs": [
    {
     "data": {
      "text/html": [
       "<div>\n",
       "<style scoped>\n",
       "    .dataframe tbody tr th:only-of-type {\n",
       "        vertical-align: middle;\n",
       "    }\n",
       "\n",
       "    .dataframe tbody tr th {\n",
       "        vertical-align: top;\n",
       "    }\n",
       "\n",
       "    .dataframe thead th {\n",
       "        text-align: right;\n",
       "    }\n",
       "</style>\n",
       "<table border=\"1\" class=\"dataframe\">\n",
       "  <thead>\n",
       "    <tr style=\"text-align: right;\">\n",
       "      <th></th>\n",
       "      <th>User_ID</th>\n",
       "      <th>Product_ID</th>\n",
       "      <th>Gender</th>\n",
       "      <th>Age</th>\n",
       "      <th>Occupation</th>\n",
       "      <th>City_Category</th>\n",
       "      <th>Stay_In_Current_City_Years</th>\n",
       "      <th>Marital_Status</th>\n",
       "      <th>Product_Category_1</th>\n",
       "      <th>Product_Category_2</th>\n",
       "      <th>Product_Category_3</th>\n",
       "      <th>Purchase</th>\n",
       "    </tr>\n",
       "  </thead>\n",
       "  <tbody>\n",
       "    <tr>\n",
       "      <th>0</th>\n",
       "      <td>1000001</td>\n",
       "      <td>P00069042</td>\n",
       "      <td>F</td>\n",
       "      <td>0-17</td>\n",
       "      <td>10</td>\n",
       "      <td>A</td>\n",
       "      <td>2</td>\n",
       "      <td>0</td>\n",
       "      <td>3</td>\n",
       "      <td>NaN</td>\n",
       "      <td>NaN</td>\n",
       "      <td>8370</td>\n",
       "    </tr>\n",
       "    <tr>\n",
       "      <th>1</th>\n",
       "      <td>1000001</td>\n",
       "      <td>P00248942</td>\n",
       "      <td>F</td>\n",
       "      <td>0-17</td>\n",
       "      <td>10</td>\n",
       "      <td>A</td>\n",
       "      <td>2</td>\n",
       "      <td>0</td>\n",
       "      <td>1</td>\n",
       "      <td>6.0</td>\n",
       "      <td>14.0</td>\n",
       "      <td>15200</td>\n",
       "    </tr>\n",
       "    <tr>\n",
       "      <th>2</th>\n",
       "      <td>1000001</td>\n",
       "      <td>P00087842</td>\n",
       "      <td>F</td>\n",
       "      <td>0-17</td>\n",
       "      <td>10</td>\n",
       "      <td>A</td>\n",
       "      <td>2</td>\n",
       "      <td>0</td>\n",
       "      <td>12</td>\n",
       "      <td>NaN</td>\n",
       "      <td>NaN</td>\n",
       "      <td>1422</td>\n",
       "    </tr>\n",
       "    <tr>\n",
       "      <th>3</th>\n",
       "      <td>1000001</td>\n",
       "      <td>P00085442</td>\n",
       "      <td>F</td>\n",
       "      <td>0-17</td>\n",
       "      <td>10</td>\n",
       "      <td>A</td>\n",
       "      <td>2</td>\n",
       "      <td>0</td>\n",
       "      <td>12</td>\n",
       "      <td>14.0</td>\n",
       "      <td>NaN</td>\n",
       "      <td>1057</td>\n",
       "    </tr>\n",
       "    <tr>\n",
       "      <th>4</th>\n",
       "      <td>1000002</td>\n",
       "      <td>P00285442</td>\n",
       "      <td>M</td>\n",
       "      <td>55+</td>\n",
       "      <td>16</td>\n",
       "      <td>C</td>\n",
       "      <td>4+</td>\n",
       "      <td>0</td>\n",
       "      <td>8</td>\n",
       "      <td>NaN</td>\n",
       "      <td>NaN</td>\n",
       "      <td>7969</td>\n",
       "    </tr>\n",
       "  </tbody>\n",
       "</table>\n",
       "</div>"
      ],
      "text/plain": [
       "   User_ID Product_ID Gender   Age  Occupation City_Category  \\\n",
       "0  1000001  P00069042      F  0-17          10             A   \n",
       "1  1000001  P00248942      F  0-17          10             A   \n",
       "2  1000001  P00087842      F  0-17          10             A   \n",
       "3  1000001  P00085442      F  0-17          10             A   \n",
       "4  1000002  P00285442      M   55+          16             C   \n",
       "\n",
       "  Stay_In_Current_City_Years  Marital_Status  Product_Category_1  \\\n",
       "0                          2               0                   3   \n",
       "1                          2               0                   1   \n",
       "2                          2               0                  12   \n",
       "3                          2               0                  12   \n",
       "4                         4+               0                   8   \n",
       "\n",
       "   Product_Category_2  Product_Category_3  Purchase  \n",
       "0                 NaN                 NaN      8370  \n",
       "1                 6.0                14.0     15200  \n",
       "2                 NaN                 NaN      1422  \n",
       "3                14.0                 NaN      1057  \n",
       "4                 NaN                 NaN      7969  "
      ]
     },
     "execution_count": 6,
     "metadata": {},
     "output_type": "execute_result"
    }
   ],
   "source": [
    "#looking at the first five samples of the dataset\n",
    "df_regression.head()"
   ]
  },
  {
   "cell_type": "code",
   "execution_count": 7,
   "metadata": {},
   "outputs": [
    {
     "data": {
      "text/html": [
       "<div>\n",
       "<style scoped>\n",
       "    .dataframe tbody tr th:only-of-type {\n",
       "        vertical-align: middle;\n",
       "    }\n",
       "\n",
       "    .dataframe tbody tr th {\n",
       "        vertical-align: top;\n",
       "    }\n",
       "\n",
       "    .dataframe thead th {\n",
       "        text-align: right;\n",
       "    }\n",
       "</style>\n",
       "<table border=\"1\" class=\"dataframe\">\n",
       "  <thead>\n",
       "    <tr style=\"text-align: right;\">\n",
       "      <th></th>\n",
       "      <th>User_ID</th>\n",
       "      <th>Occupation</th>\n",
       "      <th>Marital_Status</th>\n",
       "      <th>Product_Category_1</th>\n",
       "      <th>Product_Category_2</th>\n",
       "      <th>Product_Category_3</th>\n",
       "      <th>Purchase</th>\n",
       "    </tr>\n",
       "  </thead>\n",
       "  <tbody>\n",
       "    <tr>\n",
       "      <th>count</th>\n",
       "      <td>5.375770e+05</td>\n",
       "      <td>537577.00000</td>\n",
       "      <td>537577.000000</td>\n",
       "      <td>537577.000000</td>\n",
       "      <td>370591.000000</td>\n",
       "      <td>164278.000000</td>\n",
       "      <td>537577.000000</td>\n",
       "    </tr>\n",
       "    <tr>\n",
       "      <th>mean</th>\n",
       "      <td>1.002992e+06</td>\n",
       "      <td>8.08271</td>\n",
       "      <td>0.408797</td>\n",
       "      <td>5.295546</td>\n",
       "      <td>9.842144</td>\n",
       "      <td>12.669840</td>\n",
       "      <td>9333.859853</td>\n",
       "    </tr>\n",
       "    <tr>\n",
       "      <th>std</th>\n",
       "      <td>1.714393e+03</td>\n",
       "      <td>6.52412</td>\n",
       "      <td>0.491612</td>\n",
       "      <td>3.750701</td>\n",
       "      <td>5.087259</td>\n",
       "      <td>4.124341</td>\n",
       "      <td>4981.022133</td>\n",
       "    </tr>\n",
       "    <tr>\n",
       "      <th>min</th>\n",
       "      <td>1.000001e+06</td>\n",
       "      <td>0.00000</td>\n",
       "      <td>0.000000</td>\n",
       "      <td>1.000000</td>\n",
       "      <td>2.000000</td>\n",
       "      <td>3.000000</td>\n",
       "      <td>185.000000</td>\n",
       "    </tr>\n",
       "    <tr>\n",
       "      <th>25%</th>\n",
       "      <td>1.001495e+06</td>\n",
       "      <td>2.00000</td>\n",
       "      <td>0.000000</td>\n",
       "      <td>1.000000</td>\n",
       "      <td>5.000000</td>\n",
       "      <td>9.000000</td>\n",
       "      <td>5866.000000</td>\n",
       "    </tr>\n",
       "    <tr>\n",
       "      <th>50%</th>\n",
       "      <td>1.003031e+06</td>\n",
       "      <td>7.00000</td>\n",
       "      <td>0.000000</td>\n",
       "      <td>5.000000</td>\n",
       "      <td>9.000000</td>\n",
       "      <td>14.000000</td>\n",
       "      <td>8062.000000</td>\n",
       "    </tr>\n",
       "    <tr>\n",
       "      <th>75%</th>\n",
       "      <td>1.004417e+06</td>\n",
       "      <td>14.00000</td>\n",
       "      <td>1.000000</td>\n",
       "      <td>8.000000</td>\n",
       "      <td>15.000000</td>\n",
       "      <td>16.000000</td>\n",
       "      <td>12073.000000</td>\n",
       "    </tr>\n",
       "    <tr>\n",
       "      <th>max</th>\n",
       "      <td>1.006040e+06</td>\n",
       "      <td>20.00000</td>\n",
       "      <td>1.000000</td>\n",
       "      <td>18.000000</td>\n",
       "      <td>18.000000</td>\n",
       "      <td>18.000000</td>\n",
       "      <td>23961.000000</td>\n",
       "    </tr>\n",
       "  </tbody>\n",
       "</table>\n",
       "</div>"
      ],
      "text/plain": [
       "            User_ID    Occupation  Marital_Status  Product_Category_1  \\\n",
       "count  5.375770e+05  537577.00000   537577.000000       537577.000000   \n",
       "mean   1.002992e+06       8.08271        0.408797            5.295546   \n",
       "std    1.714393e+03       6.52412        0.491612            3.750701   \n",
       "min    1.000001e+06       0.00000        0.000000            1.000000   \n",
       "25%    1.001495e+06       2.00000        0.000000            1.000000   \n",
       "50%    1.003031e+06       7.00000        0.000000            5.000000   \n",
       "75%    1.004417e+06      14.00000        1.000000            8.000000   \n",
       "max    1.006040e+06      20.00000        1.000000           18.000000   \n",
       "\n",
       "       Product_Category_2  Product_Category_3       Purchase  \n",
       "count       370591.000000       164278.000000  537577.000000  \n",
       "mean             9.842144           12.669840    9333.859853  \n",
       "std              5.087259            4.124341    4981.022133  \n",
       "min              2.000000            3.000000     185.000000  \n",
       "25%              5.000000            9.000000    5866.000000  \n",
       "50%              9.000000           14.000000    8062.000000  \n",
       "75%             15.000000           16.000000   12073.000000  \n",
       "max             18.000000           18.000000   23961.000000  "
      ]
     },
     "execution_count": 7,
     "metadata": {},
     "output_type": "execute_result"
    }
   ],
   "source": [
    "#summary of the dataset\n",
    "df_regression.describe()"
   ]
  },
  {
   "cell_type": "code",
   "execution_count": 8,
   "metadata": {},
   "outputs": [
    {
     "data": {
      "text/plain": [
       "array(['User_ID', 'Product_ID', 'Gender', 'Age', 'Occupation',\n",
       "       'City_Category', 'Stay_In_Current_City_Years', 'Marital_Status',\n",
       "       'Product_Category_1', 'Product_Category_2', 'Product_Category_3',\n",
       "       'Purchase'], dtype=object)"
      ]
     },
     "execution_count": 8,
     "metadata": {},
     "output_type": "execute_result"
    }
   ],
   "source": [
    "#finding the feature names in the dataset\n",
    "df_regression.columns.values"
   ]
  },
  {
   "cell_type": "code",
   "execution_count": 9,
   "metadata": {},
   "outputs": [
    {
     "data": {
      "text/plain": [
       "12"
      ]
     },
     "execution_count": 9,
     "metadata": {},
     "output_type": "execute_result"
    }
   ],
   "source": [
    "#Counting the number of features in the dataset\n",
    "len(df_regression.columns)"
   ]
  },
  {
   "cell_type": "code",
   "execution_count": 10,
   "metadata": {},
   "outputs": [
    {
     "data": {
      "text/plain": [
       "User_ID                       False\n",
       "Product_ID                    False\n",
       "Gender                        False\n",
       "Age                           False\n",
       "Occupation                    False\n",
       "City_Category                 False\n",
       "Stay_In_Current_City_Years    False\n",
       "Marital_Status                False\n",
       "Product_Category_1            False\n",
       "Product_Category_2             True\n",
       "Product_Category_3             True\n",
       "Purchase                      False\n",
       "dtype: bool"
      ]
     },
     "execution_count": 10,
     "metadata": {},
     "output_type": "execute_result"
    }
   ],
   "source": [
    "#checking for which columns have empty values or no values\n",
    "df_regression.isna().any()"
   ]
  },
  {
   "cell_type": "code",
   "execution_count": 17,
   "metadata": {},
   "outputs": [
    {
     "data": {
      "text/plain": [
       "User_ID                            0\n",
       "Product_ID                         0\n",
       "Gender                             0\n",
       "Age                                0\n",
       "Occupation                         0\n",
       "City_Category                      0\n",
       "Stay_In_Current_City_Years         0\n",
       "Marital_Status                     0\n",
       "Product_Category_1                 0\n",
       "Product_Category_2            166986\n",
       "Product_Category_3            373299\n",
       "Purchase                           0\n",
       "dtype: int64"
      ]
     },
     "execution_count": 17,
     "metadata": {},
     "output_type": "execute_result"
    }
   ],
   "source": [
    "#checking for the columns which has no values and counting number of such values\n",
    "df_regression.isnull().sum()"
   ]
  },
  {
   "cell_type": "code",
   "execution_count": 11,
   "metadata": {},
   "outputs": [
    {
     "data": {
      "text/plain": [
       "(537577, 12)"
      ]
     },
     "execution_count": 11,
     "metadata": {},
     "output_type": "execute_result"
    }
   ],
   "source": [
    "#The shape of the dataset\n",
    "df_regression.shape"
   ]
  },
  {
   "cell_type": "code",
   "execution_count": 12,
   "metadata": {},
   "outputs": [],
   "source": [
    " df_regression.drop(columns=['User_ID', 'Product_ID'], inplace=True)"
   ]
  },
  {
   "cell_type": "markdown",
   "metadata": {},
   "source": [
    "* Since the User_ID and Product_ID are not relevant to which we are predicting becuase the every sample is a trasaction obeserved at the store so we are removing the Product_ID and User_ID features from the dataset"
   ]
  },
  {
   "cell_type": "code",
   "execution_count": 13,
   "metadata": {},
   "outputs": [],
   "source": [
    "#filling the empty values with 0 \n",
    "df_regression.fillna(value=0, inplace=True)"
   ]
  },
  {
   "cell_type": "code",
   "execution_count": 14,
   "metadata": {},
   "outputs": [
    {
     "data": {
      "text/html": [
       "<div>\n",
       "<style scoped>\n",
       "    .dataframe tbody tr th:only-of-type {\n",
       "        vertical-align: middle;\n",
       "    }\n",
       "\n",
       "    .dataframe tbody tr th {\n",
       "        vertical-align: top;\n",
       "    }\n",
       "\n",
       "    .dataframe thead th {\n",
       "        text-align: right;\n",
       "    }\n",
       "</style>\n",
       "<table border=\"1\" class=\"dataframe\">\n",
       "  <thead>\n",
       "    <tr style=\"text-align: right;\">\n",
       "      <th></th>\n",
       "      <th>Gender</th>\n",
       "      <th>Age</th>\n",
       "      <th>Occupation</th>\n",
       "      <th>City_Category</th>\n",
       "      <th>Stay_In_Current_City_Years</th>\n",
       "      <th>Marital_Status</th>\n",
       "      <th>Product_Category_1</th>\n",
       "      <th>Product_Category_2</th>\n",
       "      <th>Product_Category_3</th>\n",
       "      <th>Purchase</th>\n",
       "    </tr>\n",
       "  </thead>\n",
       "  <tbody>\n",
       "    <tr>\n",
       "      <th>0</th>\n",
       "      <td>F</td>\n",
       "      <td>0-17</td>\n",
       "      <td>10</td>\n",
       "      <td>A</td>\n",
       "      <td>2</td>\n",
       "      <td>0</td>\n",
       "      <td>3</td>\n",
       "      <td>0.0</td>\n",
       "      <td>0.0</td>\n",
       "      <td>8370</td>\n",
       "    </tr>\n",
       "    <tr>\n",
       "      <th>1</th>\n",
       "      <td>F</td>\n",
       "      <td>0-17</td>\n",
       "      <td>10</td>\n",
       "      <td>A</td>\n",
       "      <td>2</td>\n",
       "      <td>0</td>\n",
       "      <td>1</td>\n",
       "      <td>6.0</td>\n",
       "      <td>14.0</td>\n",
       "      <td>15200</td>\n",
       "    </tr>\n",
       "    <tr>\n",
       "      <th>2</th>\n",
       "      <td>F</td>\n",
       "      <td>0-17</td>\n",
       "      <td>10</td>\n",
       "      <td>A</td>\n",
       "      <td>2</td>\n",
       "      <td>0</td>\n",
       "      <td>12</td>\n",
       "      <td>0.0</td>\n",
       "      <td>0.0</td>\n",
       "      <td>1422</td>\n",
       "    </tr>\n",
       "    <tr>\n",
       "      <th>3</th>\n",
       "      <td>F</td>\n",
       "      <td>0-17</td>\n",
       "      <td>10</td>\n",
       "      <td>A</td>\n",
       "      <td>2</td>\n",
       "      <td>0</td>\n",
       "      <td>12</td>\n",
       "      <td>14.0</td>\n",
       "      <td>0.0</td>\n",
       "      <td>1057</td>\n",
       "    </tr>\n",
       "    <tr>\n",
       "      <th>4</th>\n",
       "      <td>M</td>\n",
       "      <td>55+</td>\n",
       "      <td>16</td>\n",
       "      <td>C</td>\n",
       "      <td>4+</td>\n",
       "      <td>0</td>\n",
       "      <td>8</td>\n",
       "      <td>0.0</td>\n",
       "      <td>0.0</td>\n",
       "      <td>7969</td>\n",
       "    </tr>\n",
       "  </tbody>\n",
       "</table>\n",
       "</div>"
      ],
      "text/plain": [
       "  Gender   Age  Occupation City_Category Stay_In_Current_City_Years  \\\n",
       "0      F  0-17          10             A                          2   \n",
       "1      F  0-17          10             A                          2   \n",
       "2      F  0-17          10             A                          2   \n",
       "3      F  0-17          10             A                          2   \n",
       "4      M   55+          16             C                         4+   \n",
       "\n",
       "   Marital_Status  Product_Category_1  Product_Category_2  Product_Category_3  \\\n",
       "0               0                   3                 0.0                 0.0   \n",
       "1               0                   1                 6.0                14.0   \n",
       "2               0                  12                 0.0                 0.0   \n",
       "3               0                  12                14.0                 0.0   \n",
       "4               0                   8                 0.0                 0.0   \n",
       "\n",
       "   Purchase  \n",
       "0      8370  \n",
       "1     15200  \n",
       "2      1422  \n",
       "3      1057  \n",
       "4      7969  "
      ]
     },
     "execution_count": 14,
     "metadata": {},
     "output_type": "execute_result"
    }
   ],
   "source": [
    "df_regression.head()"
   ]
  },
  {
   "cell_type": "code",
   "execution_count": 15,
   "metadata": {
    "scrolled": true
   },
   "outputs": [
    {
     "name": "stdout",
     "output_type": "stream",
     "text": [
      "<class 'pandas.core.frame.DataFrame'>\n",
      "RangeIndex: 537577 entries, 0 to 537576\n",
      "Data columns (total 23 columns):\n",
      "Occupation                       537577 non-null int64\n",
      "Marital_Status                   537577 non-null int64\n",
      "Product_Category_1               537577 non-null int64\n",
      "Product_Category_2               537577 non-null float64\n",
      "Product_Category_3               537577 non-null float64\n",
      "Purchase                         537577 non-null int64\n",
      "Gender_F                         537577 non-null uint8\n",
      "Gender_M                         537577 non-null uint8\n",
      "Stay_In_Current_City_Years_0     537577 non-null uint8\n",
      "Stay_In_Current_City_Years_1     537577 non-null uint8\n",
      "Stay_In_Current_City_Years_2     537577 non-null uint8\n",
      "Stay_In_Current_City_Years_3     537577 non-null uint8\n",
      "Stay_In_Current_City_Years_4+    537577 non-null uint8\n",
      "Age_0-17                         537577 non-null uint8\n",
      "Age_18-25                        537577 non-null uint8\n",
      "Age_26-35                        537577 non-null uint8\n",
      "Age_36-45                        537577 non-null uint8\n",
      "Age_46-50                        537577 non-null uint8\n",
      "Age_51-55                        537577 non-null uint8\n",
      "Age_55+                          537577 non-null uint8\n",
      "City_Category_A                  537577 non-null uint8\n",
      "City_Category_B                  537577 non-null uint8\n",
      "City_Category_C                  537577 non-null uint8\n",
      "dtypes: float64(2), int64(4), uint8(17)\n",
      "memory usage: 33.3 MB\n"
     ]
    },
    {
     "data": {
      "text/plain": [
       "22"
      ]
     },
     "execution_count": 15,
     "metadata": {},
     "output_type": "execute_result"
    }
   ],
   "source": [
    "cols_to_transform = [ 'Gender', 'Stay_In_Current_City_Years','Age', 'City_Category' ]\n",
    "df_with_dummies = pd.get_dummies( df_regression,columns = cols_to_transform )\n",
    "df_with_dummies.info()\n",
    "blackFriday_T = df_with_dummies['Purchase']\n",
    "blackFriday_X = df_with_dummies.drop(columns=['Purchase'])\n",
    "len(blackFriday_X.columns)"
   ]
  },
  {
   "cell_type": "markdown",
   "metadata": {},
   "source": [
    "* PreProcessing using *_One Hot Encoding_* of the categorical data is done above\n",
    "* Preparing the data\n",
    "    * blackFriday_X is the features variable for our regression analysis\n",
    "    * blackFriday_Y is the target varialbe for our regression analysis"
   ]
  },
  {
   "cell_type": "markdown",
   "metadata": {},
   "source": [
    "## Visualization of Data"
   ]
  },
  {
   "cell_type": "code",
   "execution_count": 57,
   "metadata": {
    "scrolled": true
   },
   "outputs": [
    {
     "data": {
      "text/plain": [
       "(array([ 32175.,  57237., 130109., 104444.,  79179.,  24980.,  63928.,\n",
       "         13437.,  29772.,   2316.]),\n",
       " array([  185. ,  2562.6,  4940.2,  7317.8,  9695.4, 12073. , 14450.6,\n",
       "        16828.2, 19205.8, 21583.4, 23961. ]),\n",
       " <a list of 10 Patch objects>)"
      ]
     },
     "execution_count": 57,
     "metadata": {},
     "output_type": "execute_result"
    },
    {
     "data": {
      "image/png": "[encoded data removed]",
      "text/plain": [
       "<Figure size 432x288 with 1 Axes>"
      ]
     },
     "metadata": {
      "needs_background": "light"
     },
     "output_type": "display_data"
    }
   ],
   "source": [
    "plt.hist(blackFriday_T)"
   ]
  },
  {
   "cell_type": "code",
   "execution_count": 58,
   "metadata": {},
   "outputs": [
    {
     "data": {
      "text/plain": [
       "(Text(0.5, 0, 'Occupation ID'), Text(0.5, 0, 'City id'))"
      ]
     },
     "execution_count": 58,
     "metadata": {},
     "output_type": "execute_result"
    },
    {
     "data": {
      "image/png": "[encoded data removed]",
      "text/plain": [
       "<Figure size 1152x864 with 4 Axes>"
      ]
     },
     "metadata": {
      "needs_background": "light"
     },
     "output_type": "display_data"
    }
   ],
   "source": [
    "fig, axes = plt.subplots(nrows=2, ncols=2)\n",
    "\n",
    "plt1 = df_regression['Gender'].value_counts().plot(ax=axes[0,0],kind='bar',title='Gender Distribution',figsize=(16,12))\n",
    "df_regression['Age'].value_counts().plot(ax=axes[0,1],kind='bar',title='Age Distribution in the data',figsize=(16,12))\n",
    "df_regression['Occupation'].value_counts().plot(ax=axes[1,0],kind='bar',title='Occupation Distribution',figsize=(16,12))\n",
    "df_regression['City_Category'].value_counts().plot(ax=axes[1,1],kind='bar',title='Distribution of City category',figsize=(16,12))\n",
    "axes[0][0].set_ylabel(\"Count\"),axes[0][1].set_ylabel(\"Count\")\n",
    "axes[1][0].set_ylabel(\"Count\"),axes[1][1].set_ylabel(\"Count\")\n",
    "axes[0][0].set_xlabel(\"Gender Category\"),axes[0][1].set_xlabel(\"Age Category\")\n",
    "axes[1][0].set_xlabel(\"Occupation ID\"),axes[1][1].set_xlabel(\"City id\")"
   ]
  },
  {
   "cell_type": "code",
   "execution_count": 59,
   "metadata": {
    "scrolled": true
   },
   "outputs": [
    {
     "data": {
      "text/plain": [
       "<matplotlib.axes._subplots.AxesSubplot at 0x20d8314aeb8>"
      ]
     },
     "execution_count": 59,
     "metadata": {},
     "output_type": "execute_result"
    },
    {
     "data": {
      "image/png": "[encoded data removed]",
      "text/plain": [
       "<Figure size 1152x864 with 4 Axes>"
      ]
     },
     "metadata": {
      "needs_background": "light"
     },
     "output_type": "display_data"
    }
   ],
   "source": [
    "fig1, axes1 = plt.subplots(nrows=2, ncols=2)\n",
    "\n",
    "df_regression['Marital_Status'].value_counts().plot(ax=axes1[0,0],kind='barh',title='Marital Status Distribution',figsize=(16,12))\n",
    "df_regression['Product_Category_1'].value_counts().plot(ax=axes1[0,1],kind='barh',title='Product Category-1 Distribution',figsize=(16,12))\n",
    "df_regression['Product_Category_2'].value_counts().plot(ax=axes1[1,0],kind='barh',title='Product Category-2 Distribution',figsize=(16,12))\n",
    "df_regression['Product_Category_3'].value_counts().plot(ax=axes1[1,1],kind='barh',title='Product Category-3 Distribution',figsize=(16,12))\n",
    "\n",
    "# df_regression['Stay_In_Current_City_Years'].value_counts().plot(ax=axes[2,0],kind='barh',title='Stay In Current City in Years',figsize=(16,12))"
   ]
  },
  {
   "cell_type": "markdown",
   "metadata": {},
   "source": [
    "## Preliminary observation\n",
    "<font color=\"green\">* \"Sample Plot title Name\" - Observations Made ( This is a reference )</font>\n",
    "#### The following are the observation made from the above plots\n",
    "* \"Gender Distribution Plot\" - we can see male are in majority in the dataset \n",
    "* \"Age Distribution Plot\" - we can see age group (26-35) are in major in the dataset\n",
    "* \"Occupation Distribution Plot\" - we can observe that occupation ID \"4\" are highest in number in the dataset and occupation id \"0\" are in next in number\n",
    "* \"City Distribution Plot\" - we can see City id \"B\" are more in count at the store on Black Friday sales\n",
    "* \"Martial Status Distribution Plot\" - we observe that there is more count of unmarried people at the store\n",
    "* \"Product Category -1 Distribution Plot\" -we see that product id 5,1,8 occupy majority of the sales\n",
    "* \"Product Category - 2 Distribution Plot\" - we found that highest number of product id is 0, which is unclassified. Since we have filled empty values as zero, we observe that in product category 2 many products which doesn't have any product id in the dataset were sold on black firday\n",
    "* \"Product Category -3 Distribution Plot\" - we found the similar case as product category -2 which is most of the products does not have any product id were sold in major portion"
   ]
  },
  {
   "cell_type": "markdown",
   "metadata": {},
   "source": [
    "# III. Methods\n",
    "\n",
    "## III.A 5-fold Cross Validation\n",
    "\n",
    "- Explain and use 5-fold cross validation to find a good neural network parameters including the structure to report the CV accuracies.\n"
   ]
  },
  {
   "cell_type": "markdown",
   "metadata": {},
   "source": [
    "* In K-fold corss Validation, we split the data into k partitions\n",
    "* We select the 1 partition as test data, 1 partition as validation data, and the remaining k-2 partitions as train data\n",
    "* We train with k -2 partitioned train data and perform validation on validation data and we get k - 1 validation errors, we choose the minimum error and train on the hold out test data with the parameters we get\n",
    "* similarly we do for every partition of k fold and we get test errors \n",
    "* We take average of all the test errors and we report that as our final error "
   ]
  },
  {
   "cell_type": "markdown",
   "metadata": {},
   "source": [
    "# Explanation of the Code"
   ]
  },
  {
   "cell_type": "markdown",
   "metadata": {},
   "source": [
    "* In the following code I have implemented the function crossValidationKfold to take inputs as Input X and Input Y \n",
    "* The kwargs are optional keyword parameters where I am passing k, alpha\n",
    "* I am holding out one test partition and one validation partition and remaining 3 as training data in one loop and finding the rmse for every validation and then chosing the best parameters I am picking that and training again on the train data to find the model.\n",
    "* After that I am testing the best model on test data\n",
    "* I am doing the above two steps in loop to find out the best parameters so that there wont be any bias in selecting the test data and to the model."
   ]
  },
  {
   "cell_type": "code",
   "execution_count": 107,
   "metadata": {},
   "outputs": [],
   "source": [
    "def rmse(T,Y):\n",
    "    assert(T.shape==Y.shape)\n",
    "    return np.sqrt((1/T.shape[0])*np.sum((Y-T)**2))"
   ]
  },
  {
   "cell_type": "code",
   "execution_count": 110,
   "metadata": {},
   "outputs": [],
   "source": [
    "from nn import NeuralNet\n",
    "def crossValidationKFold(X, Y, **kwargs):\n",
    "    print(X.shape, Y.shape)\n",
    "    k = kwargs.get('k', 5)\n",
    "    alphas = kwargs.get('alpha', 0.001)\n",
    "    maxIterations = 5\n",
    "    \n",
    "    inputSize = X.shape[0]\n",
    "    split = int(inputSize/5)\n",
    "    allIndexes = np.arange(inputSize)\n",
    "    \n",
    "    indexRanges = []\n",
    "    \n",
    "    for i in range(k):\n",
    "        if i == k - 1:\n",
    "            indexRanges.append(allIndexes[i*split:])\n",
    "        else:\n",
    "            indexRanges.append(allIndexes[i*split:(i+1)*split])\n",
    "    \n",
    "    # we will get index ranges \n",
    "    testErrs = []   \n",
    "    for i in range(k):\n",
    "        X_test = X[indexRanges[i]]\n",
    "        Y_test = Y[indexRanges[i]]\n",
    "        cv_errs = dict((alp, 0) for alp in alphas)\n",
    "        for j in range(k):\n",
    "            if j == i : \n",
    "                continue\n",
    "            X_train = None\n",
    "            Y_train = None\n",
    "            X_CrossValidation = X[indexRanges[j]]\n",
    "            Y_CorssValidation = Y[indexRanges[j]]\n",
    "            for t in range(k):\n",
    "                if i == t or j == t:\n",
    "                    continue\n",
    "                if X_train is None:\n",
    "                    X_train = X[indexRanges[t]]\n",
    "                    Y_train = Y[indexRanges[t]]\n",
    "                    continue\n",
    "                X_train = np.concatenate([X_train, X[indexRanges[t]]])\n",
    "                Y_train = np.concatenate([Y_train, Y[indexRanges[t]]])\n",
    "            for alp in alphas:\n",
    "                NNReg = NeuralNet([X.shape[1], 8, 8, 1])\n",
    "                print(X_train.shape, Y_train.shape)\n",
    "                NNReg.train(X_train,Y_train, niter = maxIterations)\n",
    "                \n",
    "                YPred = NNReg.use(X_CrossValidation)\n",
    "                err = rmse(YPred, Y_CorssValidation)\n",
    "                cv_errs[alp] += err\n",
    "                print(alp, err)\n",
    "                \n",
    "            print(\"Cross Validation Erros \", cv_errs )\n",
    "        bestAlpha = alphas[np.argmin(cv_errs.values())]\n",
    "        NNReg = NeuralNet([X.shape[1], 8, 8, 1])\n",
    "        NNReg.train(X_train, Y_train, Lambda= bestAlpha, niter = maxIterations)\n",
    "        YPred = NNReg.use(X_test)\n",
    "        err = rmse(YPred, Y_test)\n",
    "        testErrs.append([bestAlpha, err])\n",
    "        print(\"Best Alpha is \",bestAlpha,\"and the error is \",err )\n",
    "    print(\"K fold Completed\")\n",
    "    return testErrs "
   ]
  },
  {
   "cell_type": "code",
   "execution_count": 111,
   "metadata": {},
   "outputs": [
    {
     "name": "stdout",
     "output_type": "stream",
     "text": [
      "(537577, 22) (537577, 1)\n",
      "(322547, 22) (322547, 1)\n",
      "0.001 4643.974413181192\n",
      "(322547, 22) (322547, 1)\n",
      "0.01 4807.324898604846\n",
      "(322547, 22) (322547, 1)\n",
      "0.1 4651.450684166343\n",
      "(322547, 22) (322547, 1)\n",
      "1 4801.916709387888\n",
      "Cross Validation Erros  {0.001: 4643.974413181192, 0.01: 4807.324898604846, 0.1: 4651.450684166343, 1: 4801.916709387888}\n",
      "(322547, 22) (322547, 1)\n",
      "0.001 4619.440308958301\n",
      "(322547, 22) (322547, 1)\n",
      "0.01 4930.98099903802\n",
      "(322547, 22) (322547, 1)\n",
      "0.1 4701.126180832574\n",
      "(322547, 22) (322547, 1)\n",
      "1 4711.1347430464575\n",
      "Cross Validation Erros  {0.001: 9263.414722139492, 0.01: 9738.305897642866, 0.1: 9352.576864998919, 1: 9513.051452434345}\n",
      "(322547, 22) (322547, 1)\n",
      "0.001 4629.116309805866\n",
      "(322547, 22) (322547, 1)\n",
      "0.01 4716.1915610455635\n",
      "(322547, 22) (322547, 1)\n",
      "0.1 4991.99540856034\n",
      "(322547, 22) (322547, 1)\n",
      "1 4765.824178156191\n",
      "Cross Validation Erros  {0.001: 13892.531031945358, 0.01: 14454.49745868843, 0.1: 14344.572273559259, 1: 14278.875630590537}\n",
      "(322545, 22) (322545, 1)\n",
      "0.001 4897.348308261608\n",
      "(322545, 22) (322545, 1)\n",
      "0.01 4673.773856697497\n",
      "(322545, 22) (322545, 1)\n",
      "0.1 4902.649122645601\n",
      "(322545, 22) (322545, 1)\n",
      "1 4719.000450148293\n",
      "Cross Validation Erros  {0.001: 18789.879340206964, 0.01: 19128.271315385926, 0.1: 19247.22139620486, 1: 18997.87608073883}\n",
      "Best Alpha is  0.001 and the error is  4826.879052733705\n",
      "(322547, 22) (322547, 1)\n",
      "0.001 4656.564274156238\n",
      "(322547, 22) (322547, 1)\n",
      "0.01 4669.64634692737\n",
      "(322547, 22) (322547, 1)\n",
      "0.1 4856.112096485091\n",
      "(322547, 22) (322547, 1)\n",
      "1 4728.144078769652\n",
      "Cross Validation Erros  {0.001: 4656.564274156238, 0.01: 4669.64634692737, 0.1: 4856.112096485091, 1: 4728.144078769652}\n",
      "(322547, 22) (322547, 1)\n",
      "0.001 4639.469645163084\n",
      "(322547, 22) (322547, 1)\n",
      "0.01 4825.39157394874\n",
      "(322547, 22) (322547, 1)\n",
      "0.1 4723.8158593713915\n",
      "(322547, 22) (322547, 1)\n",
      "1 4694.941362950145\n",
      "Cross Validation Erros  {0.001: 9296.033919319321, 0.01: 9495.037920876111, 0.1: 9579.927955856481, 1: 9423.085441719797}\n",
      "(322547, 22) (322547, 1)\n",
      "0.001 4650.765339034483\n",
      "(322547, 22) (322547, 1)\n",
      "0.01 4646.892913622147\n",
      "(322547, 22) (322547, 1)\n",
      "0.1 4636.039876117215\n",
      "(322547, 22) (322547, 1)\n",
      "1 4900.033870508075\n",
      "Cross Validation Erros  {0.001: 13946.799258353803, 0.01: 14141.930834498258, 0.1: 14215.967831973696, 1: 14323.119312227871}\n",
      "(322545, 22) (322545, 1)\n",
      "0.001 4689.158297442653\n",
      "(322545, 22) (322545, 1)\n",
      "0.01 4637.916947299637\n",
      "(322545, 22) (322545, 1)\n",
      "0.1 4635.5758907811\n",
      "(322545, 22) (322545, 1)\n",
      "1 4748.3332386971215\n",
      "Cross Validation Erros  {0.001: 18635.957555796456, 0.01: 18779.847781797896, 0.1: 18851.543722754795, 1: 19071.452550924994}\n",
      "Best Alpha is  0.001 and the error is  4872.097006366235\n",
      "(322547, 22) (322547, 1)\n",
      "0.001 4885.2381131221755\n",
      "(322547, 22) (322547, 1)\n",
      "0.01 4857.335802301086\n",
      "(322547, 22) (322547, 1)\n",
      "0.1 4848.453991209779\n",
      "(322547, 22) (322547, 1)\n",
      "1 4803.120263473212\n",
      "Cross Validation Erros  {0.001: 4885.2381131221755, 0.01: 4857.335802301086, 0.1: 4848.453991209779, 1: 4803.120263473212}\n",
      "(322547, 22) (322547, 1)\n",
      "0.001 4702.1289742794825\n",
      "(322547, 22) (322547, 1)\n",
      "0.01 4890.582911520359\n",
      "(322547, 22) (322547, 1)\n",
      "0.1 4674.174280123818\n",
      "(322547, 22) (322547, 1)\n",
      "1 4846.226154064365\n",
      "Cross Validation Erros  {0.001: 9587.367087401657, 0.01: 9747.918713821444, 0.1: 9522.628271333597, 1: 9649.346417537578}\n",
      "(322547, 22) (322547, 1)\n",
      "0.001 4843.324821296998\n",
      "(322547, 22) (322547, 1)\n",
      "0.01 4592.908207039682\n",
      "(322547, 22) (322547, 1)\n",
      "0.1 4644.367520092515\n",
      "(322547, 22) (322547, 1)\n",
      "1 4745.9082308775705\n",
      "Cross Validation Erros  {0.001: 14430.691908698656, 0.01: 14340.826920861125, 0.1: 14166.995791426112, 1: 14395.254648415148}\n",
      "(322545, 22) (322545, 1)\n",
      "0.001 4800.8364133221485\n",
      "(322545, 22) (322545, 1)\n",
      "0.01 4612.236692218782\n",
      "(322545, 22) (322545, 1)\n",
      "0.1 4743.211367625039\n",
      "(322545, 22) (322545, 1)\n",
      "1 4745.363688547393\n",
      "Cross Validation Erros  {0.001: 19231.528322020804, 0.01: 18953.063613079907, 0.1: 18910.20715905115, 1: 19140.618336962543}\n",
      "Best Alpha is  0.001 and the error is  4651.083088529687\n",
      "(322547, 22) (322547, 1)\n",
      "0.001 4814.899591236513\n",
      "(322547, 22) (322547, 1)\n",
      "0.01 4908.217478931917\n",
      "(322547, 22) (322547, 1)\n",
      "0.1 4906.938197767762\n",
      "(322547, 22) (322547, 1)\n",
      "1 4817.259752541887\n",
      "Cross Validation Erros  {0.001: 4814.899591236513, 0.01: 4908.217478931917, 0.1: 4906.938197767762, 1: 4817.259752541887}\n",
      "(322547, 22) (322547, 1)\n",
      "0.001 4617.527196310167\n",
      "(322547, 22) (322547, 1)\n",
      "0.01 4962.869832456439\n",
      "(322547, 22) (322547, 1)\n",
      "0.1 4610.707083343464\n",
      "(322547, 22) (322547, 1)\n",
      "1 4848.666467119102\n",
      "Cross Validation Erros  {0.001: 9432.42678754668, 0.01: 9871.087311388357, 0.1: 9517.645281111225, 1: 9665.926219660989}\n",
      "(322547, 22) (322547, 1)\n",
      "0.001 4781.100215208509\n",
      "(322547, 22) (322547, 1)\n",
      "0.01 4830.976307861063\n",
      "(322547, 22) (322547, 1)\n",
      "0.1 4642.846039360477\n",
      "(322547, 22) (322547, 1)\n",
      "1 4696.5840827710535\n",
      "Cross Validation Erros  {0.001: 14213.527002755189, 0.01: 14702.06361924942, 0.1: 14160.491320471701, 1: 14362.510302432041}\n",
      "(322545, 22) (322545, 1)\n",
      "0.001 4791.082767395738\n",
      "(322545, 22) (322545, 1)\n",
      "0.01 4644.254911314428\n",
      "(322545, 22) (322545, 1)\n",
      "0.1 4887.121352914996\n",
      "(322545, 22) (322545, 1)\n",
      "1 4770.336382020691\n",
      "Cross Validation Erros  {0.001: 19004.609770150928, 0.01: 19346.318530563847, 0.1: 19047.6126733867, 1: 19132.846684452732}\n",
      "Best Alpha is  0.001 and the error is  4625.781875375628\n",
      "(322545, 22) (322545, 1)\n",
      "0.001 4866.94444616119\n",
      "(322545, 22) (322545, 1)\n",
      "0.01 4786.155268478175\n",
      "(322545, 22) (322545, 1)\n",
      "0.1 4887.402528908907\n",
      "(322545, 22) (322545, 1)\n",
      "1 4946.013361453507\n",
      "Cross Validation Erros  {0.001: 4866.94444616119, 0.01: 4786.155268478175, 0.1: 4887.402528908907, 1: 4946.013361453507}\n",
      "(322545, 22) (322545, 1)\n",
      "0.001 4586.192355788097\n",
      "(322545, 22) (322545, 1)\n",
      "0.01 4769.9231585283615\n",
      "(322545, 22) (322545, 1)\n",
      "0.1 4854.603692710127\n",
      "(322545, 22) (322545, 1)\n",
      "1 4605.2271822745715\n",
      "Cross Validation Erros  {0.001: 9453.136801949287, 0.01: 9556.078427006536, 0.1: 9742.006221619034, 1: 9551.24054372808}\n",
      "(322545, 22) (322545, 1)\n",
      "0.001 4819.978463331048\n",
      "(322545, 22) (322545, 1)\n",
      "0.01 4703.189104907438\n",
      "(322545, 22) (322545, 1)\n",
      "0.1 4724.008903823017\n",
      "(322545, 22) (322545, 1)\n",
      "1 4754.056068125081\n",
      "Cross Validation Erros  {0.001: 14273.115265280336, 0.01: 14259.267531913974, 0.1: 14466.015125442053, 1: 14305.29661185316}\n",
      "(322545, 22) (322545, 1)\n",
      "0.001 4654.451257428505\n",
      "(322545, 22) (322545, 1)\n",
      "0.01 4634.1611088043355\n",
      "(322545, 22) (322545, 1)\n",
      "0.1 4992.100959361027\n",
      "(322545, 22) (322545, 1)\n",
      "1 4692.2873353407085\n",
      "Cross Validation Erros  {0.001: 18927.56652270884, 0.01: 18893.42864071831, 0.1: 19458.116084803078, 1: 18997.583947193867}\n",
      "Best Alpha is  0.001 and the error is  4704.20471332634\n",
      "K fold Completed\n"
     ]
    }
   ],
   "source": [
    "kfoldresult = crossValidationKFold( blackFriday_X.values,blackFriday_T,k = 5, alpha=[0.001,0.01,0.1,1])"
   ]
  },
  {
   "cell_type": "markdown",
   "metadata": {},
   "source": [
    "* The following are the rmse values I got for different values of alpha"
   ]
  },
  {
   "cell_type": "markdown",
   "metadata": {},
   "source": [
    "* Best Alpha is  0.001 and the error is  4826.879052733705\n",
    "* Best Alpha is  0.001 and the error is  4872.097006366235\n",
    "* Best Alpha is  0.001 and the error is  4651.083088529687\n",
    "* Best Alpha is  0.001 and the error is  4625.781875375628\n",
    "* Best Alpha is  0.001 and the error is  4704.20471332634"
   ]
  },
  {
   "cell_type": "markdown",
   "metadata": {},
   "source": [
    "For all the hold out test alphas is same 0.001 and the errrs are above"
   ]
  },
  {
   "cell_type": "code",
   "execution_count": 102,
   "metadata": {},
   "outputs": [],
   "source": [
    "CrossValidationErros =  {0.001: 3010.96232258746, 0.01: 3013.982901234816, 0.1: 3086.8510626808416, 1: 3033.130879328568}"
   ]
  },
  {
   "cell_type": "code",
   "execution_count": 104,
   "metadata": {
    "scrolled": true
   },
   "outputs": [
    {
     "data": {
      "image/png": "[encoded data removed]",
      "text/plain": [
       "<Figure size 432x288 with 1 Axes>"
      ]
     },
     "metadata": {
      "needs_background": "light"
     },
     "output_type": "display_data"
    }
   ],
   "source": [
    "import matplotlib.pyplot as plt\n",
    "alphas = [0.001, 0.01, 0.1, 1]\n",
    "errs = [3010.9, 3013.9, 3086.8, 3033.1]\n",
    "plt.plot(alphas, errs, 'ro')\n",
    "plt.show()"
   ]
  },
  {
   "cell_type": "markdown",
   "metadata": {},
   "source": [
    "## III.B Nonlinear Regression \n",
    "\n",
    "* Neural Network functioning is similar to brain where it consists of neurons and synapses\n",
    "* The perceptron model is simplest of all\n",
    "* In perceptron, passing the output of linear model to the step functio, we get discrete outputs. We can assume this as a neuron. \n",
    "* The linear model outputs are passed over to next layer as a linear combination.\n",
    "* In Non-Linear Regression, weights affect the outputs. If the function is not linear with respect to the weights, then it's non linear regression problem\n",
    "* It contains a feed forward neural network and hidden layers and the output layer\n",
    "* I am taking the implemented NN and passing the toy data and regression data\n",
    "* Add Ones is adding bias values in every layer\n",
    "* n_getLayer is getting number of layers\n",
    "* pack will make single vector fromlayers units weights by stacking\n",
    "* Unpack will do the reverse as above\n",
    "* cp_weight copy the weight\n",
    "* Forward method is forward processing of neural network\n",
    "* train methodi is to train the neural network\n",
    "* use method is for applying the trained neural network"
   ]
  },
  {
   "cell_type": "code",
   "execution_count": 28,
   "metadata": {},
   "outputs": [],
   "source": [
    "import numpy"
   ]
  },
  {
   "cell_type": "code",
   "execution_count": 29,
   "metadata": {},
   "outputs": [],
   "source": [
    "X = numpy.array([0,0,1,0,0,1,1,1]).reshape(4,2)\n",
    "T = numpy.array([0,1,1,0,1,0,0,1]).reshape(4,2)"
   ]
  },
  {
   "cell_type": "code",
   "execution_count": 30,
   "metadata": {},
   "outputs": [],
   "source": [
    "from nn import NeuralNet"
   ]
  },
  {
   "cell_type": "code",
   "execution_count": 31,
   "metadata": {},
   "outputs": [],
   "source": [
    "nnsample = NeuralNet([2,3,2])\n",
    "nnsample.train(X,T, wprecision=1e-20, fprecision=1e-2)\n",
    "Y = nnsample.use(X)"
   ]
  },
  {
   "cell_type": "code",
   "execution_count": 33,
   "metadata": {},
   "outputs": [
    {
     "data": {
      "text/plain": [
       "array([[0.49407939, 0.49454634],\n",
       "       [0.49291355, 0.501562  ],\n",
       "       [0.50764497, 0.49837792],\n",
       "       [0.50651074, 0.50522267]])"
      ]
     },
     "execution_count": 33,
     "metadata": {},
     "output_type": "execute_result"
    }
   ],
   "source": [
    "Y"
   ]
  },
  {
   "cell_type": "code",
   "execution_count": 34,
   "metadata": {},
   "outputs": [],
   "source": [
    "NN = NeuralNet([22, 64 , 1])"
   ]
  },
  {
   "cell_type": "code",
   "execution_count": 35,
   "metadata": {},
   "outputs": [],
   "source": [
    "blackFriday_T =np.atleast_2d(blackFriday_T).T"
   ]
  },
  {
   "cell_type": "code",
   "execution_count": 37,
   "metadata": {},
   "outputs": [
    {
     "data": {
      "text/plain": [
       "((537577, 22), (537577, 1))"
      ]
     },
     "execution_count": 37,
     "metadata": {},
     "output_type": "execute_result"
    }
   ],
   "source": [
    "blackFriday_X.shape, blackFriday_T.shape"
   ]
  },
  {
   "cell_type": "code",
   "execution_count": 38,
   "metadata": {
    "scrolled": true
   },
   "outputs": [
    {
     "data": {
      "text/plain": [
       "{'w': array([-0.32808447, -0.10132642, -0.22714333, ..., -3.65605258,\n",
       "        -0.10640853, -3.23763378]),\n",
       " 'f': 0.18010782873599085,\n",
       " 'reason': 'reached limit of nIterations',\n",
       " 'wtrace': None,\n",
       " 'ftrace': None}"
      ]
     },
     "execution_count": 38,
     "metadata": {},
     "output_type": "execute_result"
    }
   ],
   "source": [
    "NN.train(blackFriday_X.values, blackFriday_T)"
   ]
  },
  {
   "cell_type": "code",
   "execution_count": 39,
   "metadata": {},
   "outputs": [],
   "source": [
    "import pickle"
   ]
  },
  {
   "cell_type": "code",
   "execution_count": 42,
   "metadata": {},
   "outputs": [],
   "source": [
    "filename = 'finalized_model.sav'\n",
    "pickle.dump(NN, open(filename, 'wb'))"
   ]
  },
  {
   "cell_type": "code",
   "execution_count": 43,
   "metadata": {},
   "outputs": [],
   "source": [
    "loaded_model = pickle.load(open(filename, 'rb'))\n",
    "result = loaded_model.use(blackFriday_X.values)"
   ]
  },
  {
   "cell_type": "code",
   "execution_count": 53,
   "metadata": {},
   "outputs": [],
   "source": [
    "from sklearn import metrics"
   ]
  },
  {
   "cell_type": "code",
   "execution_count": 54,
   "metadata": {},
   "outputs": [],
   "source": [
    "rmse_reg = np.sqrt(metrics.mean_squared_error(blackFriday_T, result))"
   ]
  },
  {
   "cell_type": "code",
   "execution_count": 55,
   "metadata": {
    "scrolled": true
   },
   "outputs": [
    {
     "data": {
      "text/plain": [
       "2989.5055272325467"
      ]
     },
     "execution_count": 55,
     "metadata": {},
     "output_type": "execute_result"
    }
   ],
   "source": [
    "rmse_reg"
   ]
  },
  {
   "cell_type": "markdown",
   "metadata": {},
   "source": [
    "* With the given parameters I got an RMSE valus of 2989.5\n",
    "* Here I have stored the model to avoid retraining the model as it takes lot of time to retrain the model"
   ]
  },
  {
   "cell_type": "markdown",
   "metadata": {},
   "source": [
    "## III.C Nonlinear Logistic Regression\n",
    "\n",
    "- Summarize the nonlinear logistic regression model. \n",
    "- Finish the following NeuralNetLogReg class.\n",
    "- Check if your codes works well with toy synthetic data. \n",
    "- Apply to your classification data. \n",
    "- Explain your codes (not in comment)\n",
    "\n",
    "* Logisitc Regression contains an activation function\n",
    "* It's a special type of Regression in which the goal is to mdel the probability of something as a function of other variables. \n",
    "* It estimates the probability (p) of an event occuring (y=1) rather then not occuring (y=0) form the knowledge of independent variables or features\n",
    "* Regression coefficients are estimated using maximum likelihood estimation\n",
    "* I use negative log likelihood estimate here for Non linear logistic regression\n",
    "\n"
   ]
  },
  {
   "cell_type": "markdown",
   "metadata": {},
   "source": [
    "# Explanation of the Code"
   ]
  },
  {
   "cell_type": "markdown",
   "metadata": {},
   "source": [
    "* In NeuralNetLogReg class below, the init method initializes all parameters such as hidden units, input size and hidden layers and output size. \n",
    "* Forward method in the class forwards with combination of the inputs \n",
    "* The objectf is the error function which is log likelihood functin which we will back propogate and update the weights\n",
    "* The train method make use of the objectF and train the model accordingly\n",
    "* Use method uses the trained weights and gives the predicted values\n",
    "* Add activation layer in forward function\n",
    "* Added encoding in the train method\n",
    "* use function, I have calcualted the probabiliteis and returned the arg max of labels\n",
    "* Changed the error function as in lecture notes"
   ]
  },
  {
   "cell_type": "code",
   "execution_count": 5,
   "metadata": {},
   "outputs": [],
   "source": [
    "from nn import NeuralNet\n",
    "from util import Standardizer\n",
    "from copy import copy\n",
    "from grad import scg\n",
    "\n",
    "class NeuralNetLogReg(NeuralNet):\n",
    "    \"\"\" Nonlinear Logistic Regression\n",
    "    \"\"\"\n",
    "\n",
    "    # if you think, you need additional items to initialize here,\n",
    "    # add your code for it here\n",
    "    def _init_(self, nunits):\n",
    "        self._nLayers=len(nunits)-1\n",
    "        self.rho = [1] * self._nLayers\n",
    "        self._W = []\n",
    "        wdims = []\n",
    "        lenweights = 0\n",
    "        for i in range(self._nLayers):\n",
    "            nwr = nunits[i] + 1\n",
    "            nwc = nunits[i+1]\n",
    "            wdims.append((nwr, nwc))\n",
    "            lenweights = lenweights + nwr * nwc\n",
    "\n",
    "        self._weights = np.random.uniform(-0.1,0.1, lenweights) \n",
    "        start = 0  # fixed index error 20110107\n",
    "        for i in range(self._nLayers):\n",
    "            end = start + wdims[i][0] * wdims[i][1] \n",
    "            self._W.append(self._weights[start:end])\n",
    "            self._W[i].resize(wdims[i])\n",
    "            start = end\n",
    "            \n",
    "        self.stdX = None\n",
    "        self.stdT = None\n",
    "        self.stdTarget = True\n",
    "\n",
    "    # Looking at the final summary or comparison table in lecture note,\n",
    "    # add your codes for forward pass for logistic regression\n",
    "    def forward(self, X):\n",
    "        t = X \n",
    "        Z = []\n",
    "\n",
    "        for i in range(self._nLayers):\n",
    "            Z.append(t) \n",
    "            if i == self._nLayers - 1:\n",
    "                t = np.dot(self.add_ones(t), self._W[i])\n",
    "                a = (np.exp(t)) / (np.sum(np.exp(t), axis=1, keepdims=True) if len(X.shape) == 2 else np.sum(np.exp(t)))\n",
    "                t = a\n",
    "            else:\n",
    "                t = np.tanh(np.dot(self.add_ones(t), self._W[i]))\n",
    "        return (t, Z)\n",
    "\n",
    "    # This is the error function that we want to minimize\n",
    "    # what was it? take a look at the lecture note to fill in\n",
    "    def _objectf(self, T, Y, wpenalty):\n",
    "        return np.mean(-(np.add(np.dot(T, np.log(Y).T),np.dot(1-T,np.log(1-Y).T)))) + wpenalty\n",
    "    \n",
    "    # you must reuse the NeuralNet train since you already modified\n",
    "    # the objective or error function (maybe both), \n",
    "    # you do not have many to change here.\n",
    "    # MAKE SURE convert a vector label T to indicator matrix and \n",
    "    # feed that for training\n",
    "    def train(self, X, T, **params):\n",
    "        targetLength = len(T)\n",
    "        newT = T.astype(int).ravel()\n",
    "        T = np.zeros((targetLength, 2))\n",
    "        T[np.arange(targetLength),newT.astype(int)] = 1\n",
    "        verbose = params.pop('verbose', False)\n",
    "        # training parameters\n",
    "        _lambda = params.pop('Lambda', 0.01)\n",
    "\n",
    "        #parameters for scg\n",
    "        niter = params.pop('niter', 1000)\n",
    "        wprecision = params.pop('wprecision', 1e-10)\n",
    "        fprecision = params.pop('fprecision', 1e-10)\n",
    "        wtracep = params.pop('wtracep', False)\n",
    "        ftracep = params.pop('ftracep', False)\n",
    "\n",
    "        # optimization\n",
    "        optim = params.pop('optim', 'scg')\n",
    "\n",
    "        if self.stdX == None:\n",
    "            explore = params.pop('explore', False)\n",
    "            self.stdX = Standardizer(X, explore)\n",
    "        Xs = self.stdX.standardize(X)\n",
    "        if self.stdT == None and self.stdTarget:\n",
    "            self.stdT = Standardizer(T)\n",
    "            T = self.stdT.standardize(T)\n",
    "            \n",
    "        def gradientf(weights):\n",
    "            self.unpack(weights)\n",
    "            Y,Z = self.forward(Xs)\n",
    "            error = self._errorf(T, Y)\n",
    "            return self.backward(error, Z, T, _lambda)\n",
    "            \n",
    "        def optimtargetf(weights):\n",
    "            \"\"\" optimization target function : MSE \n",
    "            \"\"\"\n",
    "            self.unpack(weights)\n",
    "            Y,_ = self.forward(Xs)\n",
    "            Wnb=np.array([])\n",
    "            for i in range(self._nLayers):\n",
    "                if len(Wnb)==0: Wnb=self._W[i][1:,].reshape(self._W[i].size-self._W[i][0,].size,1)\n",
    "                else: Wnb = np.vstack((Wnb,self._W[i][1:,].reshape(self._W[i].size-self._W[i][0,].size,1)))\n",
    "            wpenalty = _lambda * np.dot(Wnb.flat ,Wnb.flat)\n",
    "            return self._objectf(T, Y, wpenalty)\n",
    "\n",
    "        if optim == 'scg':\n",
    "            result = scg(self.cp_weight(), gradientf, optimtargetf,\n",
    "                                        wPrecision=wprecision, fPrecision=fprecision, \n",
    "                                        nIterations=niter,\n",
    "                                        wtracep=wtracep, ftracep=ftracep,\n",
    "                                        verbose=False)\n",
    "            self.unpack(result['w'][:])\n",
    "            self.f = result['f']\n",
    "        elif optim == 'steepest':\n",
    "            result = steepest(self.cp_weight(), gradientf, optimtargetf,\n",
    "                                nIterations=niter,\n",
    "                                xPrecision=wprecision, fPrecision=fprecision,\n",
    "                                xtracep=wtracep, ftracep=ftracep )\n",
    "            self.unpack(result['w'][:])\n",
    "        if ftracep:\n",
    "            self.ftrace = result['ftrace']\n",
    "        if 'reason' in result.keys() and verbose:\n",
    "            print(result['reason'])\n",
    "\n",
    "        return result\n",
    "    # going through forward pass, you will have the probabilities for each label\n",
    "    # now, you can use argmax to find class labels\n",
    "    # return both label and probabilities        \n",
    "    def use(self, X, retZ = False):\n",
    "        if self.stdX:\n",
    "            Xs = self.stdX.standardize(X)\n",
    "        else:\n",
    "            Xs = X\n",
    "        Y, Z = self.forward(Xs)\n",
    "        #if self.stdT is not None:\n",
    "            #Y = self.stdT.unstandardize(Y)\n",
    "        if retZ:\n",
    "            return Y, Z\n",
    "        label = []\n",
    "        for i in range(len(Y)):\n",
    "            if Y[i][0] > Y[i][1]:\n",
    "                label.append(0)\n",
    "            else:\n",
    "                label.append(1)\n",
    "        return Y,label"
   ]
  },
  {
   "cell_type": "markdown",
   "metadata": {},
   "source": [
    "# Test on Toy Data"
   ]
  },
  {
   "cell_type": "code",
   "execution_count": 6,
   "metadata": {},
   "outputs": [],
   "source": [
    "import numpy as np\n",
    "import matplotlib.pyplot as plt\n",
    "%matplotlib inline\n",
    "\n",
    "import nn "
   ]
  },
  {
   "cell_type": "code",
   "execution_count": 7,
   "metadata": {},
   "outputs": [
    {
     "data": {
      "text/plain": [
       "Text(0.5, 1.0, 'test data set')"
      ]
     },
     "execution_count": 7,
     "metadata": {},
     "output_type": "execute_result"
    },
    {
     "data": {
      "image/png": "[encoded data removed]",
      "text/plain": [
       "<Figure size 432x288 with 1 Axes>"
      ]
     },
     "metadata": {
      "needs_background": "light"
     },
     "output_type": "display_data"
    },
    {
     "data": {
      "image/png": "[encoded data removed]",
      "text/plain": [
       "<Figure size 432x288 with 1 Axes>"
      ]
     },
     "metadata": {
      "needs_background": "light"
     },
     "output_type": "display_data"
    }
   ],
   "source": [
    "# Data for testing\n",
    "N1 = 50\n",
    "N2 = 50\n",
    "N = N1 + N2\n",
    "D = 2\n",
    "K = 2\n",
    "\n",
    "mu1 = [-1, -1]\n",
    "cov1 = np.eye(2)\n",
    "\n",
    "mu2 = [2,3]\n",
    "cov2 = np.eye(2) * 3\n",
    "\n",
    "#\n",
    "#  Train Data\n",
    "#\n",
    "C1 = np.random.multivariate_normal(mu1, cov1, N1)\n",
    "C2 = np.random.multivariate_normal(mu2, cov2, N2)\n",
    "\n",
    "plt.plot(C1[:, 0], C1[:, 1], 'or')\n",
    "plt.plot(C2[:, 0], C2[:, 1], 'xb')\n",
    "\n",
    "plt.xlim([-3, 6])\n",
    "plt.ylim([-3, 7])\n",
    "plt.title(\"training data set\")\n",
    "\n",
    "Xtrain = np.vstack((C1, C2))\n",
    "Ttrain = np.zeros((N, 1))\n",
    "Ttrain[50:, :] = 1  # labels are zero or one\n",
    "\n",
    "means, stds = np.mean(Xtrain, 0), np.std(Xtrain, 0)\n",
    "# normalize inputs\n",
    "Xtrains = (Xtrain - means) / stds\n",
    "\n",
    "#\n",
    "#  Test Data\n",
    "#\n",
    "Ct1 = np.random.multivariate_normal(mu1, cov1, 20)\n",
    "Ct2 = np.random.multivariate_normal(mu2, cov2, 20)\n",
    "\n",
    "Xtest = np.vstack((Ct1, Ct2))\n",
    "Ttest = np.zeros((40, 1))\n",
    "Ttest[20:, :] = 1\n",
    "\n",
    "# normalize inputs\n",
    "Xtests = (Xtrain - means) / stds\n",
    "\n",
    "\n",
    "plt.figure()\n",
    "plt.plot(Ct1[:, 0], Ct1[:, 1], 'or')\n",
    "plt.plot(Ct2[:, 0], Ct2[:, 1], 'xb')\n",
    "\n",
    "plt.xlim([-3, 6])\n",
    "plt.ylim([-3, 7])\n",
    "plt.title(\"test data set\")"
   ]
  },
  {
   "cell_type": "code",
   "execution_count": 8,
   "metadata": {},
   "outputs": [
    {
     "name": "stderr",
     "output_type": "stream",
     "text": [
      "C:\\Users\\nvankay1\\AppData\\Local\\Continuum\\anaconda3\\lib\\site-packages\\ipykernel_launcher.py:46: RuntimeWarning: invalid value encountered in true_divide\n"
     ]
    }
   ],
   "source": [
    "# Apply Nonlinear Logistic Regression\n",
    "# from imp import reload\n",
    "# reload(nn)\n",
    "#import warnings \n",
    "#warnings.filterwarnings('ignore')\n",
    "\n",
    "clsf = NeuralNetLogReg([2, 4, 2])\n",
    "clsf.train(Xtrain, Ttrain)\n",
    "Y, classes = clsf.use(Xtest)"
   ]
  },
  {
   "cell_type": "code",
   "execution_count": 9,
   "metadata": {},
   "outputs": [
    {
     "data": {
      "text/plain": [
       "[0,\n",
       " 0,\n",
       " 0,\n",
       " 0,\n",
       " 0,\n",
       " 0,\n",
       " 0,\n",
       " 0,\n",
       " 0,\n",
       " 0,\n",
       " 0,\n",
       " 0,\n",
       " 0,\n",
       " 0,\n",
       " 0,\n",
       " 0,\n",
       " 0,\n",
       " 0,\n",
       " 0,\n",
       " 0,\n",
       " 1,\n",
       " 1,\n",
       " 0,\n",
       " 0,\n",
       " 0,\n",
       " 0,\n",
       " 0,\n",
       " 0,\n",
       " 1,\n",
       " 0,\n",
       " 0,\n",
       " 0,\n",
       " 0,\n",
       " 0,\n",
       " 1,\n",
       " 0,\n",
       " 1,\n",
       " 0,\n",
       " 0,\n",
       " 1]"
      ]
     },
     "execution_count": 9,
     "metadata": {},
     "output_type": "execute_result"
    }
   ],
   "source": [
    "classes"
   ]
  },
  {
   "cell_type": "code",
   "execution_count": 10,
   "metadata": {},
   "outputs": [
    {
     "data": {
      "text/plain": [
       "array([[0.51400125, 0.48599875],\n",
       "       [0.52051374, 0.47948626],\n",
       "       [0.51636681, 0.48363319],\n",
       "       [0.52646468, 0.47353532],\n",
       "       [0.51595692, 0.48404308],\n",
       "       [0.51942024, 0.48057976],\n",
       "       [0.5235296 , 0.4764704 ],\n",
       "       [0.51521012, 0.48478988],\n",
       "       [0.52227102, 0.47772898],\n",
       "       [0.52250118, 0.47749882],\n",
       "       [0.52207012, 0.47792988],\n",
       "       [0.52380514, 0.47619486],\n",
       "       [0.52053793, 0.47946207],\n",
       "       [0.51441295, 0.48558705],\n",
       "       [0.51887165, 0.48112835],\n",
       "       [0.5179087 , 0.4820913 ],\n",
       "       [0.52010442, 0.47989558],\n",
       "       [0.51588899, 0.48411101],\n",
       "       [0.51550447, 0.48449553],\n",
       "       [0.51452403, 0.48547597],\n",
       "       [0.49354141, 0.50645859],\n",
       "       [0.48718138, 0.51281862],\n",
       "       [0.51148292, 0.48851708],\n",
       "       [0.508174  , 0.491826  ],\n",
       "       [0.5073401 , 0.4926599 ],\n",
       "       [0.50009335, 0.49990665],\n",
       "       [0.5092256 , 0.4907744 ],\n",
       "       [0.50345307, 0.49654693],\n",
       "       [0.49095837, 0.50904163],\n",
       "       [0.50483357, 0.49516643],\n",
       "       [0.51408373, 0.48591627],\n",
       "       [0.5066453 , 0.4933547 ],\n",
       "       [0.50301321, 0.49698679],\n",
       "       [0.51725195, 0.48274805],\n",
       "       [0.49328382, 0.50671618],\n",
       "       [0.50856576, 0.49143424],\n",
       "       [0.49859258, 0.50140742],\n",
       "       [0.50241965, 0.49758035],\n",
       "       [0.50676074, 0.49323926],\n",
       "       [0.49724499, 0.50275501]])"
      ]
     },
     "execution_count": 10,
     "metadata": {},
     "output_type": "execute_result"
    }
   ],
   "source": [
    "Y"
   ]
  },
  {
   "cell_type": "code",
   "execution_count": 11,
   "metadata": {},
   "outputs": [
    {
     "name": "stdout",
     "output_type": "stream",
     "text": [
      "Accuracy:  65.0 %\n"
     ]
    },
    {
     "data": {
      "image/png": "[encoded data removed]",
      "text/plain": [
       "<Figure size 432x288 with 1 Axes>"
      ]
     },
     "metadata": {
      "needs_background": "light"
     },
     "output_type": "display_data"
    }
   ],
   "source": [
    "# retrieve labels and plot\n",
    "\n",
    "plt.plot(Ttest)\n",
    "plt.plot(classes)\n",
    "\n",
    "print(\"Accuracy: \", 100 - np.mean(np.abs(classes - Ttest.ravel())) * 100, \"%\")"
   ]
  },
  {
   "cell_type": "markdown",
   "metadata": {},
   "source": [
    "# Non Linear Logistic Regression On classification Data"
   ]
  },
  {
   "cell_type": "markdown",
   "metadata": {},
   "source": [
    "# Data"
   ]
  },
  {
   "cell_type": "markdown",
   "metadata": {},
   "source": [
    "This dataset summarizes a heterogeneous set of features about articles published by Mashable in a period of two years. The goal is to predict the article is popular or not by with a threshold on number of shares in social networks (popularity).\n",
    "The articles were published by Mashable (www.mashable.com)\n",
    "The dataset doesn't containt the content as the rights to reproduce it belongs to them.\n",
    "The dataset does not share the original content but some statistics associated with it.\n",
    "The original content can be publicly accessed and retrieved using the provided urls in the dataset.\n",
    "The dataset is aquired on January 8, 2015"
   ]
  },
  {
   "cell_type": "code",
   "execution_count": 12,
   "metadata": {},
   "outputs": [],
   "source": [
    "df = pd.read_csv(\"OnlineNewsPopularity.csv\")\n"
   ]
  },
  {
   "cell_type": "code",
   "execution_count": 13,
   "metadata": {},
   "outputs": [],
   "source": [
    "df.columns = df.columns.str.strip()\n"
   ]
  },
  {
   "cell_type": "code",
   "execution_count": 14,
   "metadata": {},
   "outputs": [],
   "source": [
    "df['popularity'] = np.where(df['shares'] > 1400 , 1, -1)\n"
   ]
  },
  {
   "cell_type": "code",
   "execution_count": 15,
   "metadata": {},
   "outputs": [],
   "source": [
    "df_updated  = df.copy()\n"
   ]
  },
  {
   "cell_type": "code",
   "execution_count": 16,
   "metadata": {},
   "outputs": [],
   "source": [
    "df_updated.drop(['shares','url','timedelta'], axis=1, inplace=True)\n"
   ]
  },
  {
   "cell_type": "code",
   "execution_count": 17,
   "metadata": {},
   "outputs": [
    {
     "data": {
      "text/plain": [
       "array(['n_tokens_title', 'n_tokens_content', 'n_unique_tokens',\n",
       "       'n_non_stop_words', 'n_non_stop_unique_tokens', 'num_hrefs',\n",
       "       'num_self_hrefs', 'num_imgs', 'num_videos', 'average_token_length',\n",
       "       'num_keywords', 'data_channel_is_lifestyle',\n",
       "       'data_channel_is_entertainment', 'data_channel_is_bus',\n",
       "       'data_channel_is_socmed', 'data_channel_is_tech',\n",
       "       'data_channel_is_world', 'kw_min_min', 'kw_max_min', 'kw_avg_min',\n",
       "       'kw_min_max', 'kw_max_max', 'kw_avg_max', 'kw_min_avg',\n",
       "       'kw_max_avg', 'kw_avg_avg', 'self_reference_min_shares',\n",
       "       'self_reference_max_shares', 'self_reference_avg_sharess',\n",
       "       'weekday_is_monday', 'weekday_is_tuesday', 'weekday_is_wednesday',\n",
       "       'weekday_is_thursday', 'weekday_is_friday', 'weekday_is_saturday',\n",
       "       'weekday_is_sunday', 'is_weekend', 'LDA_00', 'LDA_01', 'LDA_02',\n",
       "       'LDA_03', 'LDA_04', 'global_subjectivity',\n",
       "       'global_sentiment_polarity', 'global_rate_positive_words',\n",
       "       'global_rate_negative_words', 'rate_positive_words',\n",
       "       'rate_negative_words', 'avg_positive_polarity',\n",
       "       'min_positive_polarity', 'max_positive_polarity',\n",
       "       'avg_negative_polarity', 'min_negative_polarity',\n",
       "       'max_negative_polarity', 'title_subjectivity',\n",
       "       'title_sentiment_polarity', 'abs_title_subjectivity',\n",
       "       'abs_title_sentiment_polarity', 'popularity'], dtype=object)"
      ]
     },
     "execution_count": 17,
     "metadata": {},
     "output_type": "execute_result"
    }
   ],
   "source": [
    "df_updated.columns.values\n"
   ]
  },
  {
   "cell_type": "code",
   "execution_count": 18,
   "metadata": {},
   "outputs": [],
   "source": [
    "T = df_updated['popularity']"
   ]
  },
  {
   "cell_type": "code",
   "execution_count": 19,
   "metadata": {},
   "outputs": [],
   "source": [
    "X = df_updated.copy()\n"
   ]
  },
  {
   "cell_type": "code",
   "execution_count": 20,
   "metadata": {},
   "outputs": [
    {
     "data": {
      "text/plain": [
       "array(['n_tokens_title', 'n_tokens_content', 'n_unique_tokens',\n",
       "       'n_non_stop_words', 'n_non_stop_unique_tokens', 'num_hrefs',\n",
       "       'num_self_hrefs', 'num_imgs', 'num_videos', 'average_token_length',\n",
       "       'num_keywords', 'data_channel_is_lifestyle',\n",
       "       'data_channel_is_entertainment', 'data_channel_is_bus',\n",
       "       'data_channel_is_socmed', 'data_channel_is_tech',\n",
       "       'data_channel_is_world', 'kw_min_min', 'kw_max_min', 'kw_avg_min',\n",
       "       'kw_min_max', 'kw_max_max', 'kw_avg_max', 'kw_min_avg',\n",
       "       'kw_max_avg', 'kw_avg_avg', 'self_reference_min_shares',\n",
       "       'self_reference_max_shares', 'self_reference_avg_sharess',\n",
       "       'weekday_is_monday', 'weekday_is_tuesday', 'weekday_is_wednesday',\n",
       "       'weekday_is_thursday', 'weekday_is_friday', 'weekday_is_saturday',\n",
       "       'weekday_is_sunday', 'is_weekend', 'LDA_00', 'LDA_01', 'LDA_02',\n",
       "       'LDA_03', 'LDA_04', 'global_subjectivity',\n",
       "       'global_sentiment_polarity', 'global_rate_positive_words',\n",
       "       'global_rate_negative_words', 'rate_positive_words',\n",
       "       'rate_negative_words', 'avg_positive_polarity',\n",
       "       'min_positive_polarity', 'max_positive_polarity',\n",
       "       'avg_negative_polarity', 'min_negative_polarity',\n",
       "       'max_negative_polarity', 'title_subjectivity',\n",
       "       'title_sentiment_polarity', 'abs_title_subjectivity',\n",
       "       'abs_title_sentiment_polarity'], dtype=object)"
      ]
     },
     "execution_count": 20,
     "metadata": {},
     "output_type": "execute_result"
    }
   ],
   "source": [
    "X.drop(['popularity'], axis=1, inplace=True)\n",
    "X.columns.values"
   ]
  },
  {
   "cell_type": "code",
   "execution_count": 21,
   "metadata": {},
   "outputs": [
    {
     "data": {
      "text/plain": [
       "((39644, 58), (39644,))"
      ]
     },
     "execution_count": 21,
     "metadata": {},
     "output_type": "execute_result"
    }
   ],
   "source": [
    "X.shape, T.shape"
   ]
  },
  {
   "cell_type": "code",
   "execution_count": 22,
   "metadata": {},
   "outputs": [],
   "source": [
    "T =np.atleast_2d(T).T"
   ]
  },
  {
   "cell_type": "code",
   "execution_count": 23,
   "metadata": {},
   "outputs": [
    {
     "data": {
      "text/plain": [
       "(39644, 1)"
      ]
     },
     "execution_count": 23,
     "metadata": {},
     "output_type": "execute_result"
    }
   ],
   "source": [
    "T.shape"
   ]
  },
  {
   "cell_type": "code",
   "execution_count": 24,
   "metadata": {},
   "outputs": [],
   "source": [
    "nnlog = NeuralNetLogReg([X.shape[1], 4,4,2])"
   ]
  },
  {
   "cell_type": "code",
   "execution_count": null,
   "metadata": {},
   "outputs": [
    {
     "name": "stderr",
     "output_type": "stream",
     "text": [
      "D:\\Semester2\\MachineLearning\\MachineLearning\\CourseWork_UNCC\\NarendraKumar_Vankayala_Assignment3\\util.py:19: RuntimeWarning: invalid value encountered in true_divide\n",
      "  return (X - self._mu) / self._sigma\n"
     ]
    }
   ],
   "source": [
    "nnlog.train(X.values, T)"
   ]
  },
  {
   "cell_type": "markdown",
   "metadata": {},
   "source": []
  },
  {
   "cell_type": "markdown",
   "metadata": {},
   "source": [
    "# IV - Results\n",
    "\n",
    "* For Non Linear Logistic Regression, The best aplha is 0.001 "
   ]
  },
  {
   "cell_type": "markdown",
   "metadata": {},
   "source": [
    "* We got testErrs from above and we plot the test erros with best validation parameters\n",
    "* Best Alpha is 0.001 and the error is 4826.879052733705\n",
    "* Best Alpha is 0.001 and the error is 4872.097006366235\n",
    "* Best Alpha is 0.001 and the error is 4651.083088529687\n",
    "* Best Alpha is 0.001 and the error is 4625.781875375628\n",
    "* Best Alpha is 0.001 and the error is 4704.20471332634"
   ]
  },
  {
   "cell_type": "code",
   "execution_count": 28,
   "metadata": {
    "scrolled": true
   },
   "outputs": [
    {
     "data": {
      "image/png": "[encoded data removed]",
      "text/plain": [
       "<Figure size 432x288 with 1 Axes>"
      ]
     },
     "metadata": {
      "needs_background": "light"
     },
     "output_type": "display_data"
    }
   ],
   "source": [
    "import matplotlib.pyplot as plt\n",
    "plt.plot([4826.8,4872.0,4651.0, 4625.7, 4704.2])\n",
    "plt.ylabel('Cross Validation Errors best alpha 0.001')\n",
    "plt.show()"
   ]
  },
  {
   "cell_type": "markdown",
   "metadata": {},
   "source": [
    "Here we can see that the best RMSE we got is for 3rd split and the RMSE is 4625.7"
   ]
  },
  {
   "cell_type": "markdown",
   "metadata": {},
   "source": [
    "For different CV I am plotting as I iterated through the test split above"
   ]
  },
  {
   "cell_type": "code",
   "execution_count": 31,
   "metadata": {},
   "outputs": [],
   "source": [
    "CV1 = [{0.001: 18789.879340206964, 0.01: 19128.271315385926, 0.1: 19247.22139620486, 1: 18997.87608073883},\n",
    "      {0.001: 18635.957555796456, 0.01: 18779.847781797896, 0.1: 18851.543722754795, 1: 19071.452550924994},\n",
    "      {0.001: 19231.528322020804, 0.01: 18953.063613079907, 0.1: 18910.20715905115, 1: 19140.618336962543},\n",
    "      {0.001: 19004.609770150928, 0.01: 19346.318530563847, 0.1: 19047.6126733867, 1: 19132.846684452732},\n",
    "      {0.001: 18927.56652270884, 0.01: 18893.42864071831, 0.1: 19458.116084803078, 1: 18997.583947193867}\n",
    "      ]"
   ]
  },
  {
   "cell_type": "code",
   "execution_count": 37,
   "metadata": {
    "scrolled": true
   },
   "outputs": [
    {
     "data": {
      "image/png": "[encoded data removed]",
      "text/plain": [
       "<Figure size 360x1440 with 5 Axes>"
      ]
     },
     "metadata": {
      "needs_background": "light"
     },
     "output_type": "display_data"
    }
   ],
   "source": [
    "i = 0\n",
    "plt.figure(figsize=(5,20))\n",
    "\n",
    "for cv in CV1:\n",
    "    i+=1\n",
    "    plt.subplot(5,1,i)\n",
    "    plt.plot(cv.keys(), cv.values())\n",
    "    plt.ylabel(\"RMSE\")\n",
    "    plt.xlabel(\"alpha\")"
   ]
  },
  {
   "cell_type": "markdown",
   "metadata": {},
   "source": [
    "* Here we can see the cross validation errors for different values of alpha 0.001, 0.01, 0.1, 1"
   ]
  },
  {
   "cell_type": "markdown",
   "metadata": {},
   "source": [
    "# Discussions about parameter/network structure choice"
   ]
  },
  {
   "cell_type": "markdown",
   "metadata": {},
   "source": [
    "* In the None linear logistic regression I have chosen Number of hidden layers as 2 and hidden layers 8 as the datasize is huge for regression to avoid huge computational overhead in the initial setup\n",
    "* The more the number of hidden units and iterations doesnot helpful as after some point the results will have no significant difference after convergence\n",
    "* The more the number of layers stacked, the more the computational cost and it becomes deep neural network\n",
    "* After iterating through different values of lambda, we can also find the best aplha or lambda. As you can see I got the best lambda at 0.001\n",
    "* I got the best RMSE after cross validation as 4625.7"
   ]
  },
  {
   "cell_type": "markdown",
   "metadata": {},
   "source": [
    "# Discussion about the prediction results. Try to analyze what nonlinear regression model learned"
   ]
  },
  {
   "cell_type": "markdown",
   "metadata": {},
   "source": [
    "* The most important part of neural network is to find the number of hidden units which might give us the best model\n",
    "* While there is no hard and fast rule for it, with multiple combination and training rigorously we should be able to find the best fit for hidden layers too\n",
    "* Here we can see with different values of alpha we are able to find different rmse values through which we can best parameters for our model\n",
    "* We hae to choose the activation function according to our data and type of data. \n",
    "* Feed forward and back propogation after every iteration, the weights will get updated to find the local minimum.\n",
    "* As we can see the updation of weights in the intial iteration stages are updated trying to reach the best state possible, but after some threshold iterations the weights are not updated as much as it has initially due to the fact that it has learnt enough from the dataset\n",
    "* So if even if we keep huge iteration, it's just a overhead of computational cost, so we need to find the best number of iterations possible too\n",
    "* Got the best aplha as 0.001"
   ]
  },
  {
   "cell_type": "markdown",
   "metadata": {},
   "source": [
    "# Conclusions\n",
    "\n",
    "* Learnt about Neural Networks and implementation\n",
    "* Learnt about how None Linear Neural Nets work\n",
    "* Internal logic and flow of gradient descent and back propogation and feed forward networks\n",
    "* Learnt about K fold cross validation implementation and how it can be used to predict the best parameteres for the model\n",
    "* Also, about K fold cross validation and how fine tuning the parameters will help overfitting and underfitting\n",
    "* Comparision of Non Linear Regerssion and Non Linear Logistic regression with how different activation functions can make difference"
   ]
  },
  {
   "cell_type": "markdown",
   "metadata": {},
   "source": [
    "# Extra Credit\n",
    "\n",
    "Now you are testing various **activation functions** in this section. Use the best neural network structure and explore 3 different activation functions of your choice (one should be *tanh* that you used in the previous sections). \n",
    "You should use cross validation to discover the best model (with activation function). \n",
    "\n",
    "\n",
    "One extra credit is assigned when you finish the work completely. \n"
   ]
  },
  {
   "cell_type": "markdown",
   "metadata": {},
   "source": [
    "# How to start?\n",
    "\n",
    "* Download [a3.tgz](http://webpages.uncc.edu/mlee173/teach/itcs6156/notebooks/assign/a3.tgz). \n",
    "* Unzip the python files to current working directory.\n",
    "* Import the necessary classes or functions including NeuralNet."
   ]
  },
  {
   "cell_type": "markdown",
   "metadata": {},
   "source": [
    "## Grading\n",
    "\n",
    "DO NOT forget to submit your data! Your notebook is supposed to run fine after running your codes. \n",
    "\n",
    "** Note: this is a WRITING assignment. Proper writing is REQUIRED. Comments are not considered as writing. ** \n",
    "\n",
    "\n",
    "points | | description\n",
    "--|--|:--\n",
    "5 | Overview| states the objective and the appraoch \n",
    "10 | Data | \n",
    " | 2| Includes description of your data\n",
    " | 3| Plots to visualize data \n",
    " | 5| Reading and analyzing the plots \n",
    "40 | Methods | \n",
    " | 10| Summary of CV & correctness of implementation\n",
    " | 5| Summary of nonlinear regression \n",
    " | 5| Explanation of codes\n",
    " | 5| Summary of nonlinear logistic regression \n",
    " | 5| Explanation of codes\n",
    " |10| Examination of correct implementation (NonlinearLogReg) with toy data.\n",
    "40 | Results | Your Data\n",
    "| 10| Presentaion of CV results\n",
    "| 10| Discussions about parameter/network structure choice \n",
    "| 10| plots for results\n",
    "| 10| Discussion about the prediction results. Try to analyze what nonlinear regression model learned. \n",
    "5 | Conclusions \n"
   ]
  }
 ],
 "metadata": {
  "kernelspec": {
   "display_name": "Python 3",
   "language": "python",
   "name": "python3"
  },
  "language_info": {
   "codemirror_mode": {
    "name": "ipython",
    "version": 3
   },
   "file_extension": ".py",
   "mimetype": "text/x-python",
   "name": "python",
   "nbconvert_exporter": "python",
   "pygments_lexer": "ipython3",
   "version": "3.7.1"
  }
 },
 "nbformat": 4,
 "nbformat_minor": 2
}
