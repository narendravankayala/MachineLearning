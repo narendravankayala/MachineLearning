{
 "cells": [
  {
   "cell_type": "markdown",
   "metadata": {},
   "source": [
    "# Assignment #3 - Neural Networks\n",
    "\n",
    "### <font color=\"red\"> DUE: Mar 28 (Thursday) 11:00 pm </font>  "
   ]
  },
  {
   "cell_type": "markdown",
   "metadata": {},
   "source": [
    "<font color=\"blue\"> Narendra Kumar Vankayala </font>"
   ]
  },
  {
   "cell_type": "markdown",
   "metadata": {},
   "source": [
    "# I. Overview\n",
    "\n",
    "Describe the objective of this assignment. You can briefly state how you accompilsh it."
   ]
  },
  {
   "cell_type": "markdown",
   "metadata": {},
   "source": [
    "# II. Data\n",
    "\n",
    "Introduce your data and visualize them. Describe your observations about the data.\n",
    "You can reuse the data that you examined in Assignment #1 (of course for regression). "
   ]
  },
  {
   "cell_type": "markdown",
   "metadata": {},
   "source": [
    "# III. Methods\n",
    "\n",
    "## III.A 5-fold Cross Validation\n",
    "\n",
    "- Explain and use 5-fold cross validation to find a good neural network parameters including the structure to report the CV accuracies. \n",
    "\n",
    "## III.B Nonlinear Regression \n",
    "\n",
    "- Summarize the nonlinear regression model. \n",
    "- Use the NeuralNet class for regression to apply to your data. \n",
    "- Explain your codes (not in comment). \n",
    "\n",
    "\n",
    "## III.C Nonlinear Logistic Regression\n",
    "\n",
    "- Summarize the nonlinear logistic regression model. \n",
    "- Finish the following NeuralNetLogReg class.\n",
    "- Check if your codes works well with toy synthetic data. \n",
    "- Apply to your classification data. \n",
    "- Explain your codes (not in comment). "
   ]
  },
  {
   "cell_type": "code",
   "execution_count": 1,
   "metadata": {},
   "outputs": [
    {
     "ename": "ModuleNotFoundError",
     "evalue": "No module named 'nn'",
     "output_type": "error",
     "traceback": [
      "\u001b[1;31m---------------------------------------------------------------------------\u001b[0m",
      "\u001b[1;31mModuleNotFoundError\u001b[0m                       Traceback (most recent call last)",
      "\u001b[1;32m<ipython-input-1-5627c6cf7e56>\u001b[0m in \u001b[0;36m<module>\u001b[1;34m\u001b[0m\n\u001b[1;32m----> 1\u001b[1;33m \u001b[1;32mfrom\u001b[0m \u001b[0mnn\u001b[0m \u001b[1;32mimport\u001b[0m \u001b[0mNeuralNet\u001b[0m\u001b[1;33m\u001b[0m\u001b[1;33m\u001b[0m\u001b[0m\n\u001b[0m\u001b[0;32m      2\u001b[0m \u001b[1;33m\u001b[0m\u001b[0m\n\u001b[0;32m      3\u001b[0m \u001b[1;32mclass\u001b[0m \u001b[0mNeuralNetLogReg\u001b[0m\u001b[1;33m(\u001b[0m\u001b[0mNeuralNet\u001b[0m\u001b[1;33m)\u001b[0m\u001b[1;33m:\u001b[0m\u001b[1;33m\u001b[0m\u001b[1;33m\u001b[0m\u001b[0m\n\u001b[0;32m      4\u001b[0m     \"\"\" Nonlinear Logistic Regression\n\u001b[0;32m      5\u001b[0m     \"\"\"\n",
      "\u001b[1;31mModuleNotFoundError\u001b[0m: No module named 'nn'"
     ]
    }
   ],
   "source": [
    "from nn import NeuralNet\n",
    "\n",
    "class NeuralNetLogReg(NeuralNet):\n",
    "    \"\"\" Nonlinear Logistic Regression\n",
    "    \"\"\"\n",
    "\n",
    "    # if you think, you need additional items to initialize here,\n",
    "    # add your code for it here\n",
    "    def __init__(self, nunits):\n",
    "        pass\n",
    "\n",
    "    # Looking at the final summary or comparison table in lecture note,\n",
    "    # add your codes for forward pass for logistic regression\n",
    "    def forward(self, X):\n",
    "        pass\n",
    "\n",
    "    # This is the error function that we want to minimize\n",
    "    # what was it? take a look at the lecture note to fill in\n",
    "    def _objectf(self, T, Y, wpenalty):\n",
    "        pass\n",
    "\n",
    "    # you must reuse the NeuralNet train since you already modified\n",
    "    # the objective or error function (maybe both), \n",
    "    # you do not have many to change here.\n",
    "    # MAKE SURE convert a vector label T to indicator matrix and \n",
    "    # feed that for training\n",
    "    def train(self, X, T, **params):\n",
    "        pass\n",
    "\n",
    "    # going through forward pass, you will have the probabilities for each label\n",
    "    # now, you can use argmax to find class labels\n",
    "    # return both label and probabilities        \n",
    "    def use(self, X):\n",
    "        pass\n"
   ]
  },
  {
   "cell_type": "markdown",
   "metadata": {},
   "source": [
    "# IV - Results\n",
    "\n",
    "- Presents the results of comparison of the tested models with CV errors.\n",
    "- Visualize the results \n",
    "- What do you think about the results? "
   ]
  },
  {
   "cell_type": "markdown",
   "metadata": {},
   "source": [
    "# Conclusions\n",
    "\n",
    "Discuss the challenges or somethat that you learned. \n",
    "If you have any suggestion about the assignment, you can write about it. "
   ]
  },
  {
   "cell_type": "markdown",
   "metadata": {},
   "source": [
    "# Extra Credit\n",
    "\n",
    "Now you are testing various **activation functions** in this section. Use the best neural network structure and explore 3 different activation functions of your choice (one should be *tanh* that you used in the previous sections). \n",
    "You should use cross validation to discover the best model (with activation function). \n",
    "\n",
    "\n",
    "One extra credit is assigned when you finish the work completely. \n"
   ]
  },
  {
   "cell_type": "markdown",
   "metadata": {},
   "source": [
    "# How to start?\n",
    "\n",
    "* Download [a3.tgz](http://webpages.uncc.edu/mlee173/teach/itcs6156/notebooks/assign/a3.tgz). \n",
    "* Unzip the python files to current working directory.\n",
    "* Import the necessary classes or functions including NeuralNet."
   ]
  },
  {
   "cell_type": "markdown",
   "metadata": {},
   "source": [
    "## Grading\n",
    "\n",
    "DO NOT forget to submit your data! Your notebook is supposed to run fine after running your codes. \n",
    "\n",
    "** Note: this is a WRITING assignment. Proper writing is REQUIRED. Comments are not considered as writing. ** \n",
    "\n",
    "\n",
    "points | | description\n",
    "--|--|:--\n",
    "5 | Overview| states the objective and the appraoch \n",
    "10 | Data | \n",
    " | 2| Includes description of your data\n",
    " | 3| Plots to visualize data \n",
    " | 5| Reading and analyzing the plots \n",
    "40 | Methods | \n",
    " | 10| Summary of CV & correctness of implementation\n",
    " | 5| Summary of nonlinear regression \n",
    " | 5| Explanation of codes\n",
    " | 5| Summary of nonlinear logistic regression \n",
    " | 5| Explanation of codes\n",
    " |10| Examination of correct implementation (NonlinearLogReg) with toy data.\n",
    "40 | Results | Your Data\n",
    "| 10| Presentaion of CV results\n",
    "| 10| Discussions about parameter/network structure choice \n",
    "| 10| plots for results\n",
    "| 10| Discussion about the prediction results. Try to analyze what nonlinear regression model learned. \n",
    "5 | Conclusions \n"
   ]
  },
  {
   "cell_type": "code",
   "execution_count": null,
   "metadata": {},
   "outputs": [],
   "source": []
  }
 ],
 "metadata": {
  "kernelspec": {
   "display_name": "Python 3",
   "language": "python",
   "name": "python3"
  },
  "language_info": {
   "codemirror_mode": {
    "name": "ipython",
    "version": 3
   },
   "file_extension": ".py",
   "mimetype": "text/x-python",
   "name": "python",
   "nbconvert_exporter": "python",
   "pygments_lexer": "ipython3",
   "version": "3.7.1"
  }
 },
 "nbformat": 4,
 "nbformat_minor": 2
}
